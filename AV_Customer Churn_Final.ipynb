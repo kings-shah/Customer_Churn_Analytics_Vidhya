{
 "cells": [
  {
   "cell_type": "markdown",
   "metadata": {
    "id": "ZyYWZAQ2xu0G"
   },
   "source": [
    "<center><img src=\"https://github.com/kings-shah/Customer_Churn_Analytics_Vidhya/blob/main/AV.jpg?raw=true\" width=\"60%\" height=\"100\" /></center>"
   ]
  },
  {
   "cell_type": "markdown",
   "metadata": {
    "id": "5mkv4UHgEipa"
   },
   "source": [
    "<h1><center> Customer Churn</center><h1>"
   ]
  },
  {
   "cell_type": "markdown",
   "metadata": {
    "id": "ssyIiSn2Eipb"
   },
   "source": [
    "<center><img width=40% src=\"https://github.com/kings-shah/Customer_Churn_Analytics_Vidhya/blob/main/bank_!.jpg?raw=true\"></center>"
   ]
  },
  {
   "cell_type": "markdown",
   "metadata": {
    "id": "Rrs4ecLVxxyB"
   },
   "source": [
    "---\n",
    "# **Table of Contents**\n",
    "---\n",
    "\n",
    "**1.** [**Introduction**](#Section1)<br>\n",
    "**2.** [**Problem Statement**](#Section2)<br>\n",
    "**3.** [**Importing Libraries**](#Section3)<br>\n",
    "  - **3.1** [**Version Check**](#Section31)\n",
    "  - **3.2** [**Importing Libraries**](#Section32)\n",
    "\n",
    "**4.** [**Data Acquisition & Description**](#Section4)<br>\n",
    "  - **4.1** [**Data Description**](#Section41)\n",
    "  - **4.2** [**Data Information**](#Section42)\n",
    "\n",
    "**5.** [**Data Pre-processing**](#Section5)<br>\n",
    "  - **5.1** [**Data Pre-profiling**](#Section51)<br>\n",
    "  - **5.2** [**Data Pre-Processing**](#Section52)<br>\n",
    "  - **5.3** [**Data Post-profiling**](#Section53)<br>\n",
    "\n",
    "**6.** [**Exploratory Data Analysis**](#Section6)<br>\n",
    "**7.** [**Data Post-Processing**](#Section7)<br>\n",
    "  - **7.1** [**Data Encoding**](#Section71)<br> \n",
    "  - **7.2** [**Data Preparation**](#Section72)<br>\n",
    "  - **7.3** [**Data Scaling**](#Section73)<br>\n",
    "\n",
    "**8.** [**Model Development & Evaluation**](#Section8)<br>\n",
    "**9.** [**Summarization**](#Section9)<br>\n",
    "  - **9.1** [**Conclusion**](#Section91)<br>"
   ]
  },
  {
   "cell_type": "markdown",
   "metadata": {
    "id": "TtA6ebp2x1m1"
   },
   "source": [
    "---\n",
    "<a name = Section1></a>\n",
    "# **1. Introduction**\n",
    "---\n",
    "\n",
    "Decreasing the Customer Churn is a key goal for any business. Predicting Customer Churn (also known as Customer Attrition) represents an additional potential revenue source for any business. Customer Churn impacts the cost to the business. Higher Customer Churn leads to loss in revenue and the additional marketing costs involved with replacing those customers with new ones. \n",
    "\n",
    "Please refer my techinal report in PDF form\n",
    "https://github.com/kings-shah/Customer_Churn_Analytics_Vidhya/blob/main/Customer%20churn.pdf"
   ]
  },
  {
   "cell_type": "markdown",
   "metadata": {
    "id": "6PD50alP7PbO"
   },
   "source": [
    "---\n",
    "<a name = Section2></a>\n",
    "# **2. Problem Statement**\n",
    "---\n",
    "\n",
    "- **The current process suffers from the following problems:**\n",
    "  \n",
    "In this challenge, as a data scientist of a bank, you are asked to analyze the past data and predict whether the customer will churn or not in the next 6 months. This would help the bank to have the right engagement with customers at the right time.\n",
    "\n",
    "\n",
    "<a name = Section21></a>\n",
    "### **Your Role**\n",
    "\n",
    "- You are given datasets of past customers and their Is_chur (1 or 0).\n",
    "\n",
    "- Your task is to build a classification model using the datasets.\n",
    "\n",
    "\n",
    "<a name = Section21></a>\n",
    "### **Project Deliverables**\n",
    "- Deliverable: **Whether the customer will churn in next 6 months or no**\n",
    "\n",
    "- Machine Learning Task: **Classification.**\n",
    "\n",
    "- Target Variable: **Is_Churn (Yes (1) / No (2))**\n",
    "- Win Condition: **N/A (best possible model)**\n",
    "\n",
    "<a name = Section21></a>\n",
    "### **Evaluation Metric**\n",
    "\n",
    "- The model evaluation will be based on the macro f1 score. "
   ]
  },
  {
   "cell_type": "markdown",
   "metadata": {
    "id": "b9NOLpdcEiph"
   },
   "source": [
    "<center><img src=\"https://github.com/kings-shah/Customer_Churn_Analytics_Vidhya/blob/main/bank_cc.jpg?raw=true\"></center>"
   ]
  },
  {
   "cell_type": "markdown",
   "metadata": {
    "id": "uqq_eeCl7T--"
   },
   "source": [
    "---\n",
    "<a name = Section3></a>\n",
    "# **3. Importing Libraries**\n",
    "---"
   ]
  },
  {
   "cell_type": "markdown",
   "metadata": {
    "id": "RM7-_O1X7Vvn"
   },
   "source": [
    "<a name = Section31></a>\n",
    "### **3.1 Version Check**"
   ]
  },
  {
   "cell_type": "code",
   "execution_count": 356,
   "metadata": {
    "colab": {
     "base_uri": "https://localhost:8080/"
    },
    "id": "vy7KwPADEipm",
    "outputId": "b459e3f2-2b55-4561-fe58-b7d656d45ec5"
   },
   "outputs": [
    {
     "name": "stdout",
     "output_type": "stream",
     "text": [
      "python version 3.8.5\n"
     ]
    }
   ],
   "source": [
    "from platform import python_version\n",
    "\n",
    "# Printing version of Python to ensure correct version is used for this project\n",
    "print(\"python version\", python_version())\n",
    "#!pip list\n",
    "#!pip show\n"
   ]
  },
  {
   "cell_type": "markdown",
   "metadata": {
    "id": "WTASHFS47cFv"
   },
   "source": [
    "<a name = Section32></a>\n",
    "### **3.2 Importing Libraries**"
   ]
  },
  {
   "cell_type": "code",
   "execution_count": 357,
   "metadata": {
    "colab": {
     "base_uri": "https://localhost:8080/"
    },
    "id": "IvwRw1f77a-U",
    "outputId": "ba47d080-34c2-4b27-fb6e-0118f71b1681"
   },
   "outputs": [],
   "source": [
    "#------------------------------------------------------------------------------------------------------------------------------\n",
    "import pandas as pd    # Importing for panel data analysis\n",
    "import numpy as np\n",
    "import matplotlib.pyplot as plt   \n",
    "import matplotlib.pyplot as plt                                     # Importing pyplot interface using matplotlib\n",
    "import seaborn as sns                                               # Importin seaborm library for interactive visualization\n",
    "%matplotlib inline\n",
    "import sklearn.metrics\n",
    "import warnings                                                     # Importing warning to disable runtime warnings\n",
    "warnings.filterwarnings(\"ignore\")     \n",
    "from sklearn.model_selection import train_test_split                # To split the data in training and testing part     \n",
    "from sklearn.linear_model import LogisticRegression  \n",
    "#-------------------------------------------------------------------------------------------------------------------------------\n",
    "from sklearn.metrics import accuracy_score                          # For calculating the accuracy for the model\n",
    "from sklearn.metrics import precision_score                         # For calculating the Precision of the model\n",
    "from sklearn.metrics import recall_score                            # For calculating the recall of the model\n",
    "from sklearn.metrics import precision_recall_curve                  # For precision and recall metric estimation\n",
    "from sklearn.metrics import confusion_matrix                        # For verifying model performance using confusion matrix\n",
    "from sklearn.metrics import f1_score                                # For Checking the F1-Score of our model  \n",
    "from sklearn.metrics import roc_curve                               # For Roc-Auc metric estimation\n",
    "from sklearn.metrics import plot_roc_curve\n",
    "#-------------------------------------------------------------------------------------------------------------------------------\n",
    "from sklearn.preprocessing import StandardScaler                    # To scaled data with mean 0 and variance 1\n",
    "from sklearn.model_selection import RandomizedSearchCV              # To find best hyperparamter setting for the algorithm\n",
    "from sklearn.metrics import classification_report                   # To generate classification report\n",
    "from sklearn.metrics import plot_confusion_matrix                   # To plot confusion matrix\n",
    "#import pydotplus                                                    # To generate pydot file\n",
    "from IPython.display import Image\n"
   ]
  },
  {
   "cell_type": "markdown",
   "metadata": {
    "id": "UrpwmWxc7iif"
   },
   "source": [
    "---\n",
    "<a name = Section4></a>\n",
    "\n",
    "<b><center><h1>Data Set</b></h1>\n",
    "<br>\n",
    "\n",
    "| ID | Feature Name | Description of the feature |\n",
    "| :-- | :--| :--| \n",
    "|01| **ID**   | Unique Identifier of a row                          |\n",
    "|02| **Age**|Age of the customer               |\n",
    "|03| **Gender**        | Gender of the customer (Male and Female)           |\n",
    "|04| **Income**          | Yearly income of the customer                     |\n",
    "|05| **Balance**      | Average quarterly balance of the customer                 |\n",
    "|06| **Vintage**           |No. of years the customer is associated with bank                                  |\n",
    "|07| **Transaction_Status**     | Whether the customer has done any transaction in the past 3 months or not|\n",
    "|08| **Product_Holdings**     | No. of product holdings with the bank|\n",
    "|09| **Credit_Card**        | \tWhether the customer has a credit card or not                                         |\n",
    "|10| **Credit_Category**          | Category of a customer based on the credit score                                 |\n",
    "|11| **Is_Churn**         | Whether the customer will churn in next 6 months or not  |\n"
   ]
  },
  {
   "cell_type": "markdown",
   "metadata": {
    "id": "XFqXRKo690e5"
   },
   "source": [
    "- Load Customer Data to be used for Training and Validation"
   ]
  },
  {
   "cell_type": "code",
   "execution_count": 358,
   "metadata": {
    "colab": {
     "base_uri": "https://localhost:8080/",
     "height": 340
    },
    "id": "xxBLyDgo7a7H",
    "outputId": "8321793d-7421-416d-bd8b-37e3c6063469"
   },
   "outputs": [
    {
     "name": "stdout",
     "output_type": "stream",
     "text": [
      "Shape of the Training and Validation dataset: (6650, 11)\n"
     ]
    },
    {
     "data": {
      "text/html": [
       "<div>\n",
       "<style scoped>\n",
       "    .dataframe tbody tr th:only-of-type {\n",
       "        vertical-align: middle;\n",
       "    }\n",
       "\n",
       "    .dataframe tbody tr th {\n",
       "        vertical-align: top;\n",
       "    }\n",
       "\n",
       "    .dataframe thead th {\n",
       "        text-align: right;\n",
       "    }\n",
       "</style>\n",
       "<table border=\"1\" class=\"dataframe\">\n",
       "  <thead>\n",
       "    <tr style=\"text-align: right;\">\n",
       "      <th></th>\n",
       "      <th>ID</th>\n",
       "      <th>Age</th>\n",
       "      <th>Gender</th>\n",
       "      <th>Income</th>\n",
       "      <th>Balance</th>\n",
       "      <th>Vintage</th>\n",
       "      <th>Transaction_Status</th>\n",
       "      <th>Product_Holdings</th>\n",
       "      <th>Credit_Card</th>\n",
       "      <th>Credit_Category</th>\n",
       "      <th>Is_Churn</th>\n",
       "    </tr>\n",
       "  </thead>\n",
       "  <tbody>\n",
       "    <tr>\n",
       "      <th>0</th>\n",
       "      <td>84e2fcc9</td>\n",
       "      <td>36</td>\n",
       "      <td>Female</td>\n",
       "      <td>5L - 10L</td>\n",
       "      <td>563266.44</td>\n",
       "      <td>4</td>\n",
       "      <td>0</td>\n",
       "      <td>1</td>\n",
       "      <td>0</td>\n",
       "      <td>Average</td>\n",
       "      <td>1</td>\n",
       "    </tr>\n",
       "    <tr>\n",
       "      <th>1</th>\n",
       "      <td>57fea15e</td>\n",
       "      <td>53</td>\n",
       "      <td>Female</td>\n",
       "      <td>Less than 5L</td>\n",
       "      <td>875572.11</td>\n",
       "      <td>2</td>\n",
       "      <td>1</td>\n",
       "      <td>1</td>\n",
       "      <td>1</td>\n",
       "      <td>Poor</td>\n",
       "      <td>0</td>\n",
       "    </tr>\n",
       "    <tr>\n",
       "      <th>2</th>\n",
       "      <td>8df34ef3</td>\n",
       "      <td>35</td>\n",
       "      <td>Female</td>\n",
       "      <td>More than 15L</td>\n",
       "      <td>701607.06</td>\n",
       "      <td>2</td>\n",
       "      <td>1</td>\n",
       "      <td>2</td>\n",
       "      <td>0</td>\n",
       "      <td>Poor</td>\n",
       "      <td>0</td>\n",
       "    </tr>\n",
       "    <tr>\n",
       "      <th>3</th>\n",
       "      <td>c5c0788b</td>\n",
       "      <td>43</td>\n",
       "      <td>Female</td>\n",
       "      <td>More than 15L</td>\n",
       "      <td>1393922.16</td>\n",
       "      <td>0</td>\n",
       "      <td>1</td>\n",
       "      <td>2</td>\n",
       "      <td>1</td>\n",
       "      <td>Poor</td>\n",
       "      <td>1</td>\n",
       "    </tr>\n",
       "    <tr>\n",
       "      <th>4</th>\n",
       "      <td>951d69c4</td>\n",
       "      <td>39</td>\n",
       "      <td>Female</td>\n",
       "      <td>More than 15L</td>\n",
       "      <td>893146.23</td>\n",
       "      <td>1</td>\n",
       "      <td>1</td>\n",
       "      <td>1</td>\n",
       "      <td>1</td>\n",
       "      <td>Good</td>\n",
       "      <td>1</td>\n",
       "    </tr>\n",
       "  </tbody>\n",
       "</table>\n",
       "</div>"
      ],
      "text/plain": [
       "         ID  Age  Gender         Income     Balance  Vintage  \\\n",
       "0  84e2fcc9   36  Female       5L - 10L   563266.44        4   \n",
       "1  57fea15e   53  Female   Less than 5L   875572.11        2   \n",
       "2  8df34ef3   35  Female  More than 15L   701607.06        2   \n",
       "3  c5c0788b   43  Female  More than 15L  1393922.16        0   \n",
       "4  951d69c4   39  Female  More than 15L   893146.23        1   \n",
       "\n",
       "   Transaction_Status Product_Holdings  Credit_Card Credit_Category  Is_Churn  \n",
       "0                   0                1            0         Average         1  \n",
       "1                   1                1            1            Poor         0  \n",
       "2                   1                2            0            Poor         0  \n",
       "3                   1                2            1            Poor         1  \n",
       "4                   1                1            1            Good         1  "
      ]
     },
     "execution_count": 358,
     "metadata": {},
     "output_type": "execute_result"
    }
   ],
   "source": [
    "# ID is unique ID for customer \n",
    "df = pd.read_csv(\"https://github.com/kings-shah/Customer_Churn_Analytics_Vidhya/blob/main/train_AV_Customer_churn.csv?raw=true\")\n",
    "\n",
    "# Get the dimesions of data\n",
    "print('Shape of the Training and Validation dataset:', df.shape)\n",
    "\n",
    "# Output first 5 data rows\n",
    "df.head()\n"
   ]
  },
  {
   "cell_type": "code",
   "execution_count": 359,
   "metadata": {
    "colab": {
     "base_uri": "https://localhost:8080/"
    },
    "id": "xD8YT7na90e8",
    "outputId": "0146fa9b-1333-4ec5-cadb-e66eed64b7e1"
   },
   "outputs": [
    {
     "data": {
      "text/plain": [
       "False"
      ]
     },
     "execution_count": 359,
     "metadata": {},
     "output_type": "execute_result"
    }
   ],
   "source": [
    "#check if any duplicate row\n",
    "any(df.duplicated())"
   ]
  },
  {
   "cell_type": "markdown",
   "metadata": {
    "id": "SpQsei5Q8BGS"
   },
   "source": [
    "<a name = Section41></a>\n",
    "### **4.1 Data Description**\n",
    "\n",
    "- In this section we will get **information about the data** and see some observations."
   ]
  },
  {
   "cell_type": "code",
   "execution_count": 360,
   "metadata": {
    "colab": {
     "base_uri": "https://localhost:8080/",
     "height": 80
    },
    "id": "Z5c6POtLEipv",
    "outputId": "37b8e095-6fc2-44eb-d095-268f407d1dc0"
   },
   "outputs": [
    {
     "data": {
      "text/html": [
       "<div>\n",
       "<style scoped>\n",
       "    .dataframe tbody tr th:only-of-type {\n",
       "        vertical-align: middle;\n",
       "    }\n",
       "\n",
       "    .dataframe tbody tr th {\n",
       "        vertical-align: top;\n",
       "    }\n",
       "\n",
       "    .dataframe thead th {\n",
       "        text-align: right;\n",
       "    }\n",
       "</style>\n",
       "<table border=\"1\" class=\"dataframe\">\n",
       "  <thead>\n",
       "    <tr style=\"text-align: right;\">\n",
       "      <th></th>\n",
       "      <th>Age</th>\n",
       "      <th>Vintage</th>\n",
       "      <th>Transaction_Status</th>\n",
       "      <th>Credit_Card</th>\n",
       "      <th>Is_Churn</th>\n",
       "    </tr>\n",
       "  </thead>\n",
       "  <tbody>\n",
       "    <tr>\n",
       "      <th>count</th>\n",
       "      <td>6650.000000</td>\n",
       "      <td>6650.000000</td>\n",
       "      <td>6650.000000</td>\n",
       "      <td>6650.000000</td>\n",
       "      <td>6650.000000</td>\n",
       "    </tr>\n",
       "    <tr>\n",
       "      <th>mean</th>\n",
       "      <td>41.130226</td>\n",
       "      <td>2.250226</td>\n",
       "      <td>0.515789</td>\n",
       "      <td>0.664361</td>\n",
       "      <td>0.231128</td>\n",
       "    </tr>\n",
       "    <tr>\n",
       "      <th>std</th>\n",
       "      <td>9.685747</td>\n",
       "      <td>1.458795</td>\n",
       "      <td>0.499788</td>\n",
       "      <td>0.472249</td>\n",
       "      <td>0.421586</td>\n",
       "    </tr>\n",
       "    <tr>\n",
       "      <th>min</th>\n",
       "      <td>21.000000</td>\n",
       "      <td>0.000000</td>\n",
       "      <td>0.000000</td>\n",
       "      <td>0.000000</td>\n",
       "      <td>0.000000</td>\n",
       "    </tr>\n",
       "    <tr>\n",
       "      <th>25%</th>\n",
       "      <td>34.000000</td>\n",
       "      <td>1.000000</td>\n",
       "      <td>0.000000</td>\n",
       "      <td>0.000000</td>\n",
       "      <td>0.000000</td>\n",
       "    </tr>\n",
       "    <tr>\n",
       "      <th>50%</th>\n",
       "      <td>40.000000</td>\n",
       "      <td>2.000000</td>\n",
       "      <td>1.000000</td>\n",
       "      <td>1.000000</td>\n",
       "      <td>0.000000</td>\n",
       "    </tr>\n",
       "    <tr>\n",
       "      <th>75%</th>\n",
       "      <td>47.000000</td>\n",
       "      <td>3.000000</td>\n",
       "      <td>1.000000</td>\n",
       "      <td>1.000000</td>\n",
       "      <td>0.000000</td>\n",
       "    </tr>\n",
       "    <tr>\n",
       "      <th>max</th>\n",
       "      <td>72.000000</td>\n",
       "      <td>5.000000</td>\n",
       "      <td>1.000000</td>\n",
       "      <td>1.000000</td>\n",
       "      <td>1.000000</td>\n",
       "    </tr>\n",
       "  </tbody>\n",
       "</table>\n",
       "</div>"
      ],
      "text/plain": [
       "               Age      Vintage  Transaction_Status  Credit_Card     Is_Churn\n",
       "count  6650.000000  6650.000000         6650.000000  6650.000000  6650.000000\n",
       "mean     41.130226     2.250226            0.515789     0.664361     0.231128\n",
       "std       9.685747     1.458795            0.499788     0.472249     0.421586\n",
       "min      21.000000     0.000000            0.000000     0.000000     0.000000\n",
       "25%      34.000000     1.000000            0.000000     0.000000     0.000000\n",
       "50%      40.000000     2.000000            1.000000     1.000000     0.000000\n",
       "75%      47.000000     3.000000            1.000000     1.000000     0.000000\n",
       "max      72.000000     5.000000            1.000000     1.000000     1.000000"
      ]
     },
     "execution_count": 360,
     "metadata": {},
     "output_type": "execute_result"
    }
   ],
   "source": [
    "#year_last_moved is not relevant for statistical details but need to check count just to confirm\n",
    "#Is_Churn is Target variable and has two category as 0 and 1\n",
    "df.describe(include=[np.int64])"
   ]
  },
  {
   "cell_type": "code",
   "execution_count": 361,
   "metadata": {
    "colab": {
     "base_uri": "https://localhost:8080/",
     "height": 317
    },
    "id": "vmYaroaO7XSG",
    "outputId": "f204e07e-bfa8-44e5-e476-c7b65fd39efa"
   },
   "outputs": [
    {
     "data": {
      "text/html": [
       "<div>\n",
       "<style scoped>\n",
       "    .dataframe tbody tr th:only-of-type {\n",
       "        vertical-align: middle;\n",
       "    }\n",
       "\n",
       "    .dataframe tbody tr th {\n",
       "        vertical-align: top;\n",
       "    }\n",
       "\n",
       "    .dataframe thead th {\n",
       "        text-align: right;\n",
       "    }\n",
       "</style>\n",
       "<table border=\"1\" class=\"dataframe\">\n",
       "  <thead>\n",
       "    <tr style=\"text-align: right;\">\n",
       "      <th></th>\n",
       "      <th>Balance</th>\n",
       "    </tr>\n",
       "  </thead>\n",
       "  <tbody>\n",
       "    <tr>\n",
       "      <th>count</th>\n",
       "      <td>6.650000e+03</td>\n",
       "    </tr>\n",
       "    <tr>\n",
       "      <th>mean</th>\n",
       "      <td>8.045954e+05</td>\n",
       "    </tr>\n",
       "    <tr>\n",
       "      <th>std</th>\n",
       "      <td>5.157549e+05</td>\n",
       "    </tr>\n",
       "    <tr>\n",
       "      <th>min</th>\n",
       "      <td>6.300000e+01</td>\n",
       "    </tr>\n",
       "    <tr>\n",
       "      <th>25%</th>\n",
       "      <td>3.922642e+05</td>\n",
       "    </tr>\n",
       "    <tr>\n",
       "      <th>50%</th>\n",
       "      <td>7.649386e+05</td>\n",
       "    </tr>\n",
       "    <tr>\n",
       "      <th>75%</th>\n",
       "      <td>1.147124e+06</td>\n",
       "    </tr>\n",
       "    <tr>\n",
       "      <th>max</th>\n",
       "      <td>2.436616e+06</td>\n",
       "    </tr>\n",
       "  </tbody>\n",
       "</table>\n",
       "</div>"
      ],
      "text/plain": [
       "            Balance\n",
       "count  6.650000e+03\n",
       "mean   8.045954e+05\n",
       "std    5.157549e+05\n",
       "min    6.300000e+01\n",
       "25%    3.922642e+05\n",
       "50%    7.649386e+05\n",
       "75%    1.147124e+06\n",
       "max    2.436616e+06"
      ]
     },
     "execution_count": 361,
     "metadata": {},
     "output_type": "execute_result"
    }
   ],
   "source": [
    "#Basic statistical details for numeric variables\n",
    "df.describe(include=[np.float64])"
   ]
  },
  {
   "cell_type": "code",
   "execution_count": 362,
   "metadata": {
    "colab": {
     "base_uri": "https://localhost:8080/"
    },
    "id": "tugM4joIEipv",
    "outputId": "1f5dc041-eddd-4cd4-c4c4-2919ca72b2a4"
   },
   "outputs": [
    {
     "data": {
      "text/plain": [
       "False"
      ]
     },
     "execution_count": 362,
     "metadata": {},
     "output_type": "execute_result"
    }
   ],
   "source": [
    "# Check for any missing values\n",
    "any(df.isna().sum())"
   ]
  },
  {
   "cell_type": "markdown",
   "metadata": {
    "id": "rgdPuEzB8Ncn"
   },
   "source": [
    "**Observations:**\n",
    "- There is no missing values.\n",
    "- Variables like **Transaction_Status**\t,**Credit_Card**,\t**Is_Churn** have values 0 and 1\n",
    "- **Vintage** has values 0,1,2,3,4,5"
   ]
  },
  {
   "cell_type": "code",
   "execution_count": 363,
   "metadata": {
    "colab": {
     "base_uri": "https://localhost:8080/",
     "height": 210
    },
    "id": "MTeJbxvSEipw",
    "outputId": "041520f1-d3f3-437a-9ec7-32efdce924ae"
   },
   "outputs": [
    {
     "data": {
      "text/html": [
       "<div>\n",
       "<style scoped>\n",
       "    .dataframe tbody tr th:only-of-type {\n",
       "        vertical-align: middle;\n",
       "    }\n",
       "\n",
       "    .dataframe tbody tr th {\n",
       "        vertical-align: top;\n",
       "    }\n",
       "\n",
       "    .dataframe thead th {\n",
       "        text-align: right;\n",
       "    }\n",
       "</style>\n",
       "<table border=\"1\" class=\"dataframe\">\n",
       "  <thead>\n",
       "    <tr style=\"text-align: right;\">\n",
       "      <th></th>\n",
       "      <th>ID</th>\n",
       "      <th>Gender</th>\n",
       "      <th>Income</th>\n",
       "      <th>Product_Holdings</th>\n",
       "      <th>Credit_Category</th>\n",
       "    </tr>\n",
       "  </thead>\n",
       "  <tbody>\n",
       "    <tr>\n",
       "      <th>count</th>\n",
       "      <td>6650</td>\n",
       "      <td>6650</td>\n",
       "      <td>6650</td>\n",
       "      <td>6650</td>\n",
       "      <td>6650</td>\n",
       "    </tr>\n",
       "    <tr>\n",
       "      <th>unique</th>\n",
       "      <td>6650</td>\n",
       "      <td>2</td>\n",
       "      <td>4</td>\n",
       "      <td>3</td>\n",
       "      <td>3</td>\n",
       "    </tr>\n",
       "    <tr>\n",
       "      <th>top</th>\n",
       "      <td>57c1bb33</td>\n",
       "      <td>Male</td>\n",
       "      <td>10L - 15L</td>\n",
       "      <td>1</td>\n",
       "      <td>Poor</td>\n",
       "    </tr>\n",
       "    <tr>\n",
       "      <th>freq</th>\n",
       "      <td>1</td>\n",
       "      <td>3612</td>\n",
       "      <td>1885</td>\n",
       "      <td>3200</td>\n",
       "      <td>3076</td>\n",
       "    </tr>\n",
       "  </tbody>\n",
       "</table>\n",
       "</div>"
      ],
      "text/plain": [
       "              ID Gender     Income Product_Holdings Credit_Category\n",
       "count       6650   6650       6650             6650            6650\n",
       "unique      6650      2          4                3               3\n",
       "top     57c1bb33   Male  10L - 15L                1            Poor\n",
       "freq           1   3612       1885             3200            3076"
      ]
     },
     "execution_count": 363,
     "metadata": {},
     "output_type": "execute_result"
    }
   ],
   "source": [
    "#Basic statistical details for categorical variables\n",
    "df.describe(include=[np.object])"
   ]
  },
  {
   "cell_type": "markdown",
   "metadata": {
    "id": "QbQLixkYEipw"
   },
   "source": [
    "**Observations:**\n",
    "- **Gender** have values **'Female', 'Male'**. Male are slightly more than Female\n",
    "- **Income** has values **'5L - 10L', 'Less than 5L', 'More than 15L', '10L - 15L'**\n",
    "- **Product_Holdings** has values **'1', '2', '3+'**. aximum occurance is of **1**\n",
    "- **Credit_Category** has values **'Average', 'Poor', 'Good'**. Maximum occurance is of **Poor**"
   ]
  },
  {
   "cell_type": "code",
   "execution_count": 364,
   "metadata": {
    "colab": {
     "base_uri": "https://localhost:8080/"
    },
    "id": "BNSfUnbNEipx",
    "outputId": "2ac07548-f80a-489a-9076-23ba5a08be23"
   },
   "outputs": [
    {
     "data": {
      "text/plain": [
       "0"
      ]
     },
     "execution_count": 364,
     "metadata": {},
     "output_type": "execute_result"
    }
   ],
   "source": [
    "# Check any duplicate rows\n",
    "df.duplicated().sum()"
   ]
  },
  {
   "cell_type": "markdown",
   "metadata": {},
   "source": [
    "#### No duplicate rows"
   ]
  },
  {
   "cell_type": "code",
   "execution_count": 365,
   "metadata": {
    "colab": {
     "base_uri": "https://localhost:8080/"
    },
    "id": "1-ig0Ha5Eipx",
    "outputId": "8565df87-1d7e-40ec-a70b-60b45341aa91"
   },
   "outputs": [
    {
     "data": {
      "text/plain": [
       "Index(['ID', 'Age', 'Gender', 'Income', 'Balance', 'Vintage',\n",
       "       'Transaction_Status', 'Product_Holdings', 'Credit_Card',\n",
       "       'Credit_Category', 'Is_Churn'],\n",
       "      dtype='object')"
      ]
     },
     "execution_count": 365,
     "metadata": {},
     "output_type": "execute_result"
    }
   ],
   "source": [
    "# Columns list can be handy and useful for further steps\n",
    "df.columns"
   ]
  },
  {
   "cell_type": "markdown",
   "metadata": {
    "id": "dQQ5Ks4P8PFv"
   },
   "source": [
    "<a name = Section42></a>\n",
    "### **4.2 Data Information**\n",
    "\n",
    "- In this section we will see the **information about the types of the features**."
   ]
  },
  {
   "cell_type": "code",
   "execution_count": 366,
   "metadata": {
    "colab": {
     "base_uri": "https://localhost:8080/"
    },
    "id": "m3Rpdt3E8O0b",
    "outputId": "bca6762d-687e-49fe-d788-2c97c64a3ea6"
   },
   "outputs": [
    {
     "name": "stdout",
     "output_type": "stream",
     "text": [
      "<class 'pandas.core.frame.DataFrame'>\n",
      "RangeIndex: 6650 entries, 0 to 6649\n",
      "Data columns (total 11 columns):\n",
      " #   Column              Non-Null Count  Dtype  \n",
      "---  ------              --------------  -----  \n",
      " 0   ID                  6650 non-null   object \n",
      " 1   Age                 6650 non-null   int64  \n",
      " 2   Gender              6650 non-null   object \n",
      " 3   Income              6650 non-null   object \n",
      " 4   Balance             6650 non-null   float64\n",
      " 5   Vintage             6650 non-null   int64  \n",
      " 6   Transaction_Status  6650 non-null   int64  \n",
      " 7   Product_Holdings    6650 non-null   object \n",
      " 8   Credit_Card         6650 non-null   int64  \n",
      " 9   Credit_Category     6650 non-null   object \n",
      " 10  Is_Churn            6650 non-null   int64  \n",
      "dtypes: float64(1), int64(5), object(5)\n",
      "memory usage: 571.6+ KB\n"
     ]
    }
   ],
   "source": [
    "# Check column data types and any null values\n",
    "df.info()"
   ]
  },
  {
   "cell_type": "markdown",
   "metadata": {
    "id": "n-SrlC0x8VIj"
   },
   "source": [
    "**Observations:**\n",
    "\n",
    "- Total Non-Null count for each column is same as 6650 which means there is no missing values.\n",
    "\n",
    "- There are **4 Categorical features**, **6 Numerical features** with 5 columns as integer feature as they contain numerical values."
   ]
  },
  {
   "cell_type": "code",
   "execution_count": 367,
   "metadata": {
    "colab": {
     "base_uri": "https://localhost:8080/"
    },
    "id": "kndS14CHEipy",
    "outputId": "9f4987a4-276a-44f1-ee60-f167faf101a0"
   },
   "outputs": [
    {
     "name": "stdout",
     "output_type": "stream",
     "text": [
      "Categorical variables:\n",
      "['ID', 'Gender', 'Income', 'Product_Holdings', 'Credit_Category']\n"
     ]
    }
   ],
   "source": [
    "# Get list of categorical variables\n",
    "s = (df.dtypes == 'object')\n",
    "object_cols = list(s[s].index)\n",
    "\n",
    "print(\"Categorical variables:\")\n",
    "print(object_cols)"
   ]
  },
  {
   "cell_type": "code",
   "execution_count": 368,
   "metadata": {},
   "outputs": [
    {
     "name": "stdout",
     "output_type": "stream",
     "text": [
      "ID : ['84e2fcc9' '57fea15e' '8df34ef3' ... 'd4075a95' '5855b142' '57b39511']\n",
      "Gender : ['Female' 'Male']\n",
      "Income : ['5L - 10L' 'Less than 5L' 'More than 15L' '10L - 15L']\n",
      "Product_Holdings : ['1' '2' '3+']\n",
      "Credit_Category : ['Average' 'Poor' 'Good']\n"
     ]
    }
   ],
   "source": [
    "for x in object_cols:\n",
    "    print(x,\":\",df[x].unique())"
   ]
  },
  {
   "cell_type": "code",
   "execution_count": 369,
   "metadata": {
    "colab": {
     "base_uri": "https://localhost:8080/"
    },
    "id": "1JsnKy5tEipz",
    "outputId": "40625c43-67fe-4c66-a7b1-a9472edf4b43"
   },
   "outputs": [
    {
     "name": "stdout",
     "output_type": "stream",
     "text": [
      "Numeric variables INT:\n",
      "['Age', 'Vintage', 'Transaction_Status', 'Credit_Card', 'Is_Churn']\n"
     ]
    }
   ],
   "source": [
    "# Get list of numerical variables\n",
    "s = (df.dtypes == 'int64')\n",
    "numeric_cols = list(s[s].index)\n",
    "\n",
    "print(\"Numeric variables INT:\")\n",
    "print(numeric_cols)"
   ]
  },
  {
   "cell_type": "code",
   "execution_count": 370,
   "metadata": {
    "colab": {
     "base_uri": "https://localhost:8080/"
    },
    "id": "_hRC2qgyEipz",
    "outputId": "8bd40d5a-e9be-4b57-a5ad-516c5cec9dd3"
   },
   "outputs": [
    {
     "name": "stdout",
     "output_type": "stream",
     "text": [
      "Numeric variables Float:\n",
      "['Balance']\n"
     ]
    }
   ],
   "source": [
    "# Get list of numerical variables\n",
    "s = (df.dtypes == 'float64')\n",
    "numeric_cols = list(s[s].index)\n",
    "\n",
    "print(\"Numeric variables Float:\")\n",
    "print(numeric_cols)"
   ]
  },
  {
   "cell_type": "markdown",
   "metadata": {
    "id": "x1UTfHz7H_Kj"
   },
   "source": [
    "### **Numerical Data Distribution:**\n",
    "\n",
    "- We shall plot all **numerical features to analyze the distribution** of their past."
   ]
  },
  {
   "cell_type": "code",
   "execution_count": 371,
   "metadata": {
    "colab": {
     "base_uri": "https://localhost:8080/",
     "height": 946
    },
    "id": "_tkdLsT3AL02",
    "outputId": "3049a635-224a-4349-c314-28347feaaabf"
   },
   "outputs": [
    {
     "data": {
      "image/png": "[encoded data removed]",
      "text/plain": [
       "<Figure size 1440x1080 with 3 Axes>"
      ]
     },
     "metadata": {
      "needs_background": "light"
     },
     "output_type": "display_data"
    }
   ],
   "source": [
    "# For Random seed values\n",
    "from random import randint\n",
    "fig, axes = plt.subplots(nrows = 1, ncols = 3, sharex = False, figsize=(20, 15))\n",
    "colors = []\n",
    "for i in range(16):\n",
    "  colors.append('#%06X' % randint(0, 0xFFFFFF))\n",
    "  columns=['Age', 'Vintage','Balance']\n",
    "for ax, col, color in zip(axes.flat, columns, colors):\n",
    "  sns.distplot(a = df[col], bins = 50, ax = ax, color = color)\n",
    "  ax.set_title(col)\n",
    "  plt.setp(axes, yticks=[])\n",
    "  ax.grid(False)\n",
    "plt.tight_layout()\n",
    "plt.show()"
   ]
  },
  {
   "cell_type": "markdown",
   "metadata": {
    "id": "0k-6kZuVFdmx"
   },
   "source": [
    "**Observation:**\n",
    "\n",
    "- **Slightly Postive Skewed Features: (Mean > Median)**\n",
    " - Age\n",
    " - Balance\n",
    " - Vintage\n",
    "\n"
   ]
  },
  {
   "cell_type": "code",
   "execution_count": 372,
   "metadata": {},
   "outputs": [],
   "source": [
    "object_cols=object_cols[1:]"
   ]
  },
  {
   "cell_type": "markdown",
   "metadata": {
    "id": "GQzduMy6IIxV"
   },
   "source": [
    "### **Categorical Data Distribution:**\n",
    "\n",
    "- We shall plot all **categorical features to analyze the distribution** of the past data.\n"
   ]
  },
  {
   "cell_type": "code",
   "execution_count": 373,
   "metadata": {
    "colab": {
     "base_uri": "https://localhost:8080/",
     "height": 730
    },
    "id": "Sj5GsmicBWbc",
    "outputId": "e28d34aa-8bf5-49a9-f6d6-962192d054d5"
   },
   "outputs": [
    {
     "data": {
      "image/png": "[encoded data removed]",
      "text/plain": [
       "<Figure size 1440x864 with 4 Axes>"
      ]
     },
     "metadata": {
      "needs_background": "light"
     },
     "output_type": "display_data"
    }
   ],
   "source": [
    "fig, axes = plt.subplots(nrows = 2, ncols = 2, sharex = False, figsize=(20, 12))\n",
    "\n",
    "colors = []\n",
    "for i in range(14):\n",
    "  colors.append('#%06X' % randint(0, 0xFFFFFF))\n",
    "\n",
    "for ax, col, color in zip(axes.flat, object_cols, colors):\n",
    "  ax.bar(x = df[col].value_counts().index, height = df[col].value_counts(), color = color)\n",
    "  ax.set_title(col)\n",
    "  ax.set_xlabel(' ')\n",
    "  #ax.set_xticklabels(labels = ' ')\n",
    "  ax.grid(True)"
   ]
  },
  {
   "cell_type": "markdown",
   "metadata": {},
   "source": [
    "**Observations:**\n",
    "\n",
    "    - Male are slightly more than Female. \n",
    "    - Max Customer are between 5-15L. \n",
    "    - very less customers are 3+ Product Holdings. \n",
    "   "
   ]
  },
  {
   "cell_type": "markdown",
   "metadata": {
    "id": "oQSEAjYy8XfW"
   },
   "source": [
    "<a name = Section5></a>\n",
    "\n",
    "---\n",
    "# **5. Data Pre-Processing**\n",
    "---"
   ]
  },
  {
   "cell_type": "markdown",
   "metadata": {
    "id": "4L4wU-sm8ZLg"
   },
   "source": [
    "<a name = Section51></a>\n",
    "### **5.1 Data Pre-Profiling**\n",
    "\n",
    "- For **quick analysis** pandas profiling is very handy.\n",
    "\n",
    "- Generates profile reports from a pandas DataFrame.\n",
    "\n",
    "- For each column **statistics** are presented in an interactive HTML report."
   ]
  },
  {
   "cell_type": "markdown",
   "metadata": {
    "id": "fM-c50LH88C0"
   },
   "source": [
    "<a name = Section52></a>\n",
    "### **5.2 Data Pre-Processing**\n",
    "\n",
    "- There are no missing values and data appears clean so far but we need to pre process few features before EDA and Model Evaluation"
   ]
  },
  {
   "cell_type": "markdown",
   "metadata": {
    "id": "QLwWFES98-I8"
   },
   "source": [
    "<a name = Section53></a>\n",
    "### **5.3 Data Post-Profiling**\n",
    "\n",
    "- We can run the report to get latest information"
   ]
  },
  {
   "cell_type": "markdown",
   "metadata": {
    "id": "yRiwgAJL9IrJ"
   },
   "source": [
    "<a name = Section6></a>\n",
    "\n",
    "---\n",
    "# **6. Exploratory Data Analysis**\n",
    "---\n",
    "\n",
    "**NOTE**:  \n",
    "\n",
    "- Exploratory Data Analysis will explore all the features and their relationship with other features\n",
    "- Both non-graphical and graphical method will be used as applicable to respective features\n",
    "- Both univariate and bivariate method be used as applicable to respective features"
   ]
  },
  {
   "cell_type": "code",
   "execution_count": 374,
   "metadata": {},
   "outputs": [
    {
     "data": {
      "text/html": [
       "<div>\n",
       "<style scoped>\n",
       "    .dataframe tbody tr th:only-of-type {\n",
       "        vertical-align: middle;\n",
       "    }\n",
       "\n",
       "    .dataframe tbody tr th {\n",
       "        vertical-align: top;\n",
       "    }\n",
       "\n",
       "    .dataframe thead th {\n",
       "        text-align: right;\n",
       "    }\n",
       "</style>\n",
       "<table border=\"1\" class=\"dataframe\">\n",
       "  <thead>\n",
       "    <tr style=\"text-align: right;\">\n",
       "      <th></th>\n",
       "      <th>ID</th>\n",
       "      <th>Age</th>\n",
       "      <th>Gender</th>\n",
       "      <th>Income</th>\n",
       "      <th>Balance</th>\n",
       "      <th>Vintage</th>\n",
       "      <th>Transaction_Status</th>\n",
       "      <th>Product_Holdings</th>\n",
       "      <th>Credit_Card</th>\n",
       "      <th>Credit_Category</th>\n",
       "      <th>Is_Churn</th>\n",
       "    </tr>\n",
       "  </thead>\n",
       "  <tbody>\n",
       "    <tr>\n",
       "      <th>0</th>\n",
       "      <td>84e2fcc9</td>\n",
       "      <td>36</td>\n",
       "      <td>Female</td>\n",
       "      <td>5L - 10L</td>\n",
       "      <td>563266.44</td>\n",
       "      <td>4</td>\n",
       "      <td>0</td>\n",
       "      <td>1</td>\n",
       "      <td>0</td>\n",
       "      <td>Average</td>\n",
       "      <td>1</td>\n",
       "    </tr>\n",
       "    <tr>\n",
       "      <th>1</th>\n",
       "      <td>57fea15e</td>\n",
       "      <td>53</td>\n",
       "      <td>Female</td>\n",
       "      <td>Less than 5L</td>\n",
       "      <td>875572.11</td>\n",
       "      <td>2</td>\n",
       "      <td>1</td>\n",
       "      <td>1</td>\n",
       "      <td>1</td>\n",
       "      <td>Poor</td>\n",
       "      <td>0</td>\n",
       "    </tr>\n",
       "    <tr>\n",
       "      <th>2</th>\n",
       "      <td>8df34ef3</td>\n",
       "      <td>35</td>\n",
       "      <td>Female</td>\n",
       "      <td>More than 15L</td>\n",
       "      <td>701607.06</td>\n",
       "      <td>2</td>\n",
       "      <td>1</td>\n",
       "      <td>2</td>\n",
       "      <td>0</td>\n",
       "      <td>Poor</td>\n",
       "      <td>0</td>\n",
       "    </tr>\n",
       "    <tr>\n",
       "      <th>3</th>\n",
       "      <td>c5c0788b</td>\n",
       "      <td>43</td>\n",
       "      <td>Female</td>\n",
       "      <td>More than 15L</td>\n",
       "      <td>1393922.16</td>\n",
       "      <td>0</td>\n",
       "      <td>1</td>\n",
       "      <td>2</td>\n",
       "      <td>1</td>\n",
       "      <td>Poor</td>\n",
       "      <td>1</td>\n",
       "    </tr>\n",
       "    <tr>\n",
       "      <th>4</th>\n",
       "      <td>951d69c4</td>\n",
       "      <td>39</td>\n",
       "      <td>Female</td>\n",
       "      <td>More than 15L</td>\n",
       "      <td>893146.23</td>\n",
       "      <td>1</td>\n",
       "      <td>1</td>\n",
       "      <td>1</td>\n",
       "      <td>1</td>\n",
       "      <td>Good</td>\n",
       "      <td>1</td>\n",
       "    </tr>\n",
       "  </tbody>\n",
       "</table>\n",
       "</div>"
      ],
      "text/plain": [
       "         ID  Age  Gender         Income     Balance  Vintage  \\\n",
       "0  84e2fcc9   36  Female       5L - 10L   563266.44        4   \n",
       "1  57fea15e   53  Female   Less than 5L   875572.11        2   \n",
       "2  8df34ef3   35  Female  More than 15L   701607.06        2   \n",
       "3  c5c0788b   43  Female  More than 15L  1393922.16        0   \n",
       "4  951d69c4   39  Female  More than 15L   893146.23        1   \n",
       "\n",
       "   Transaction_Status Product_Holdings  Credit_Card Credit_Category  Is_Churn  \n",
       "0                   0                1            0         Average         1  \n",
       "1                   1                1            1            Poor         0  \n",
       "2                   1                2            0            Poor         0  \n",
       "3                   1                2            1            Poor         1  \n",
       "4                   1                1            1            Good         1  "
      ]
     },
     "execution_count": 374,
     "metadata": {},
     "output_type": "execute_result"
    }
   ],
   "source": [
    "df.head()"
   ]
  },
  {
   "cell_type": "code",
   "execution_count": 375,
   "metadata": {},
   "outputs": [
    {
     "data": {
      "text/plain": [
       "Text(0.5, 1.0, 'Correlation between Numerical features')"
      ]
     },
     "execution_count": 375,
     "metadata": {},
     "output_type": "execute_result"
    },
    {
     "data": {
      "image/png": "[encoded data removed]",
      "text/plain": [
       "<Figure size 720x720 with 2 Axes>"
      ]
     },
     "metadata": {
      "needs_background": "light"
     },
     "output_type": "display_data"
    }
   ],
   "source": [
    "#Check corelation primarily between Numerical linear features and target variable\n",
    "#Correlation is a measure used to represent how strongly two random variables are related to each other.\n",
    "#Correlation ranges between -1 and +1\n",
    "corr = df.corr(method='pearson')\n",
    "plt.figure(figsize=(10,10))\n",
    "sns.heatmap(corr,vmax=.8,linewidth=.01, square = True, annot = True,cmap='YlGnBu',linecolor ='black')\n",
    "plt.title('Correlation between Numerical features')"
   ]
  },
  {
   "attachments": {},
   "cell_type": "markdown",
   "metadata": {},
   "source": [
    "<b>Positively correlated with Is_churn</b>\n",
    "<ul>\n",
    "    <li>Age\n",
    "    <li>Balance\n",
    "    <li>Vintage\n",
    "</ul>\n",
    "<b>Negatively correlated with Is_churn</b>\n",
    "<ul>\n",
    "    <li>Transaction Status\n",
    "    <li>Credit Card\n",
    "</ul>\n"
   ]
  },
  {
   "cell_type": "markdown",
   "metadata": {
    "id": "VXvEcuNuVJPj"
   },
   "source": [
    "<a name = Section7></a>\n",
    "\n",
    "---\n",
    "# **7. Data Post-Processing**\n",
    "---\n",
    "\n"
   ]
  },
  {
   "cell_type": "markdown",
   "metadata": {
    "id": "BEmZ_S6qVJPj"
   },
   "source": [
    "<a name = Section71></a>\n",
    "### **7.1 Data Encoding**\n",
    "\n",
    "- In this section, we will encode our categorical features as necessary and manipulate any column as necessary"
   ]
  },
  {
   "cell_type": "code",
   "execution_count": 376,
   "metadata": {},
   "outputs": [
    {
     "data": {
      "text/plain": [
       "(6650, 11)"
      ]
     },
     "execution_count": 376,
     "metadata": {},
     "output_type": "execute_result"
    }
   ],
   "source": [
    "df.shape"
   ]
  },
  {
   "cell_type": "code",
   "execution_count": 377,
   "metadata": {
    "id": "YLEBOAvXEiqJ"
   },
   "outputs": [],
   "source": [
    "# # applying one-hot encoding for Training and Validation Dataset\n",
    "from sklearn.preprocessing import OneHotEncoder\n",
    "ohe = OneHotEncoder()\n",
    "categorical = df.loc[:, ['Gender','Income','Credit_Category','Product_Holdings']]\n",
    "encoded_data = ohe.fit_transform(categorical)\n",
    "cols = ohe.get_feature_names(['Gender','Income','Credit_Category','Product_Holdings'])\n",
    "encoded_features = pd.DataFrame(encoded_data.todense(), columns=cols)"
   ]
  },
  {
   "cell_type": "code",
   "execution_count": 378,
   "metadata": {
    "colab": {
     "base_uri": "https://localhost:8080/"
    },
    "id": "DL5Hmf1kEiqJ",
    "outputId": "b3a868b8-4147-4f78-b7cc-15713ca6db9b"
   },
   "outputs": [
    {
     "data": {
      "text/plain": [
       "(6650, 12)"
      ]
     },
     "execution_count": 378,
     "metadata": {},
     "output_type": "execute_result"
    }
   ],
   "source": [
    "encoded_features.shape"
   ]
  },
  {
   "cell_type": "code",
   "execution_count": 379,
   "metadata": {
    "colab": {
     "base_uri": "https://localhost:8080/",
     "height": 413
    },
    "id": "9zmYQLHrEiqJ",
    "outputId": "1fc7c7e7-de9c-442f-e57a-a9157aed303a"
   },
   "outputs": [
    {
     "data": {
      "text/html": [
       "<div>\n",
       "<style scoped>\n",
       "    .dataframe tbody tr th:only-of-type {\n",
       "        vertical-align: middle;\n",
       "    }\n",
       "\n",
       "    .dataframe tbody tr th {\n",
       "        vertical-align: top;\n",
       "    }\n",
       "\n",
       "    .dataframe thead th {\n",
       "        text-align: right;\n",
       "    }\n",
       "</style>\n",
       "<table border=\"1\" class=\"dataframe\">\n",
       "  <thead>\n",
       "    <tr style=\"text-align: right;\">\n",
       "      <th></th>\n",
       "      <th>Gender_Female</th>\n",
       "      <th>Gender_Male</th>\n",
       "      <th>Income_10L - 15L</th>\n",
       "      <th>Income_5L - 10L</th>\n",
       "      <th>Income_Less than 5L</th>\n",
       "      <th>Income_More than 15L</th>\n",
       "      <th>Credit_Category_Average</th>\n",
       "      <th>Credit_Category_Good</th>\n",
       "      <th>Credit_Category_Poor</th>\n",
       "      <th>Product_Holdings_1</th>\n",
       "      <th>Product_Holdings_2</th>\n",
       "      <th>Product_Holdings_3+</th>\n",
       "    </tr>\n",
       "  </thead>\n",
       "  <tbody>\n",
       "    <tr>\n",
       "      <th>0</th>\n",
       "      <td>1.0</td>\n",
       "      <td>0.0</td>\n",
       "      <td>0.0</td>\n",
       "      <td>1.0</td>\n",
       "      <td>0.0</td>\n",
       "      <td>0.0</td>\n",
       "      <td>1.0</td>\n",
       "      <td>0.0</td>\n",
       "      <td>0.0</td>\n",
       "      <td>1.0</td>\n",
       "      <td>0.0</td>\n",
       "      <td>0.0</td>\n",
       "    </tr>\n",
       "    <tr>\n",
       "      <th>1</th>\n",
       "      <td>1.0</td>\n",
       "      <td>0.0</td>\n",
       "      <td>0.0</td>\n",
       "      <td>0.0</td>\n",
       "      <td>1.0</td>\n",
       "      <td>0.0</td>\n",
       "      <td>0.0</td>\n",
       "      <td>0.0</td>\n",
       "      <td>1.0</td>\n",
       "      <td>1.0</td>\n",
       "      <td>0.0</td>\n",
       "      <td>0.0</td>\n",
       "    </tr>\n",
       "    <tr>\n",
       "      <th>2</th>\n",
       "      <td>1.0</td>\n",
       "      <td>0.0</td>\n",
       "      <td>0.0</td>\n",
       "      <td>0.0</td>\n",
       "      <td>0.0</td>\n",
       "      <td>1.0</td>\n",
       "      <td>0.0</td>\n",
       "      <td>0.0</td>\n",
       "      <td>1.0</td>\n",
       "      <td>0.0</td>\n",
       "      <td>1.0</td>\n",
       "      <td>0.0</td>\n",
       "    </tr>\n",
       "    <tr>\n",
       "      <th>3</th>\n",
       "      <td>1.0</td>\n",
       "      <td>0.0</td>\n",
       "      <td>0.0</td>\n",
       "      <td>0.0</td>\n",
       "      <td>0.0</td>\n",
       "      <td>1.0</td>\n",
       "      <td>0.0</td>\n",
       "      <td>0.0</td>\n",
       "      <td>1.0</td>\n",
       "      <td>0.0</td>\n",
       "      <td>1.0</td>\n",
       "      <td>0.0</td>\n",
       "    </tr>\n",
       "    <tr>\n",
       "      <th>4</th>\n",
       "      <td>1.0</td>\n",
       "      <td>0.0</td>\n",
       "      <td>0.0</td>\n",
       "      <td>0.0</td>\n",
       "      <td>0.0</td>\n",
       "      <td>1.0</td>\n",
       "      <td>0.0</td>\n",
       "      <td>1.0</td>\n",
       "      <td>0.0</td>\n",
       "      <td>1.0</td>\n",
       "      <td>0.0</td>\n",
       "      <td>0.0</td>\n",
       "    </tr>\n",
       "    <tr>\n",
       "      <th>5</th>\n",
       "      <td>1.0</td>\n",
       "      <td>0.0</td>\n",
       "      <td>0.0</td>\n",
       "      <td>0.0</td>\n",
       "      <td>1.0</td>\n",
       "      <td>0.0</td>\n",
       "      <td>0.0</td>\n",
       "      <td>1.0</td>\n",
       "      <td>0.0</td>\n",
       "      <td>1.0</td>\n",
       "      <td>0.0</td>\n",
       "      <td>0.0</td>\n",
       "    </tr>\n",
       "    <tr>\n",
       "      <th>6</th>\n",
       "      <td>0.0</td>\n",
       "      <td>1.0</td>\n",
       "      <td>0.0</td>\n",
       "      <td>0.0</td>\n",
       "      <td>1.0</td>\n",
       "      <td>0.0</td>\n",
       "      <td>1.0</td>\n",
       "      <td>0.0</td>\n",
       "      <td>0.0</td>\n",
       "      <td>0.0</td>\n",
       "      <td>1.0</td>\n",
       "      <td>0.0</td>\n",
       "    </tr>\n",
       "    <tr>\n",
       "      <th>7</th>\n",
       "      <td>1.0</td>\n",
       "      <td>0.0</td>\n",
       "      <td>1.0</td>\n",
       "      <td>0.0</td>\n",
       "      <td>0.0</td>\n",
       "      <td>0.0</td>\n",
       "      <td>0.0</td>\n",
       "      <td>0.0</td>\n",
       "      <td>1.0</td>\n",
       "      <td>1.0</td>\n",
       "      <td>0.0</td>\n",
       "      <td>0.0</td>\n",
       "    </tr>\n",
       "    <tr>\n",
       "      <th>8</th>\n",
       "      <td>1.0</td>\n",
       "      <td>0.0</td>\n",
       "      <td>1.0</td>\n",
       "      <td>0.0</td>\n",
       "      <td>0.0</td>\n",
       "      <td>0.0</td>\n",
       "      <td>0.0</td>\n",
       "      <td>0.0</td>\n",
       "      <td>1.0</td>\n",
       "      <td>1.0</td>\n",
       "      <td>0.0</td>\n",
       "      <td>0.0</td>\n",
       "    </tr>\n",
       "    <tr>\n",
       "      <th>9</th>\n",
       "      <td>1.0</td>\n",
       "      <td>0.0</td>\n",
       "      <td>0.0</td>\n",
       "      <td>1.0</td>\n",
       "      <td>0.0</td>\n",
       "      <td>0.0</td>\n",
       "      <td>0.0</td>\n",
       "      <td>0.0</td>\n",
       "      <td>1.0</td>\n",
       "      <td>1.0</td>\n",
       "      <td>0.0</td>\n",
       "      <td>0.0</td>\n",
       "    </tr>\n",
       "  </tbody>\n",
       "</table>\n",
       "</div>"
      ],
      "text/plain": [
       "   Gender_Female  Gender_Male  Income_10L - 15L  Income_5L - 10L  \\\n",
       "0            1.0          0.0               0.0              1.0   \n",
       "1            1.0          0.0               0.0              0.0   \n",
       "2            1.0          0.0               0.0              0.0   \n",
       "3            1.0          0.0               0.0              0.0   \n",
       "4            1.0          0.0               0.0              0.0   \n",
       "5            1.0          0.0               0.0              0.0   \n",
       "6            0.0          1.0               0.0              0.0   \n",
       "7            1.0          0.0               1.0              0.0   \n",
       "8            1.0          0.0               1.0              0.0   \n",
       "9            1.0          0.0               0.0              1.0   \n",
       "\n",
       "   Income_Less than 5L  Income_More than 15L  Credit_Category_Average  \\\n",
       "0                  0.0                   0.0                      1.0   \n",
       "1                  1.0                   0.0                      0.0   \n",
       "2                  0.0                   1.0                      0.0   \n",
       "3                  0.0                   1.0                      0.0   \n",
       "4                  0.0                   1.0                      0.0   \n",
       "5                  1.0                   0.0                      0.0   \n",
       "6                  1.0                   0.0                      1.0   \n",
       "7                  0.0                   0.0                      0.0   \n",
       "8                  0.0                   0.0                      0.0   \n",
       "9                  0.0                   0.0                      0.0   \n",
       "\n",
       "   Credit_Category_Good  Credit_Category_Poor  Product_Holdings_1  \\\n",
       "0                   0.0                   0.0                 1.0   \n",
       "1                   0.0                   1.0                 1.0   \n",
       "2                   0.0                   1.0                 0.0   \n",
       "3                   0.0                   1.0                 0.0   \n",
       "4                   1.0                   0.0                 1.0   \n",
       "5                   1.0                   0.0                 1.0   \n",
       "6                   0.0                   0.0                 0.0   \n",
       "7                   0.0                   1.0                 1.0   \n",
       "8                   0.0                   1.0                 1.0   \n",
       "9                   0.0                   1.0                 1.0   \n",
       "\n",
       "   Product_Holdings_2  Product_Holdings_3+  \n",
       "0                 0.0                  0.0  \n",
       "1                 0.0                  0.0  \n",
       "2                 1.0                  0.0  \n",
       "3                 1.0                  0.0  \n",
       "4                 0.0                  0.0  \n",
       "5                 0.0                  0.0  \n",
       "6                 1.0                  0.0  \n",
       "7                 0.0                  0.0  \n",
       "8                 0.0                  0.0  \n",
       "9                 0.0                  0.0  "
      ]
     },
     "execution_count": 379,
     "metadata": {},
     "output_type": "execute_result"
    }
   ],
   "source": [
    "encoded_features.head(10)"
   ]
  },
  {
   "cell_type": "code",
   "execution_count": 380,
   "metadata": {
    "colab": {
     "base_uri": "https://localhost:8080/"
    },
    "id": "EfF6HorhEiqJ",
    "outputId": "720ad18e-4caa-4bae-e20d-c08b94ee747a"
   },
   "outputs": [
    {
     "name": "stdout",
     "output_type": "stream",
     "text": [
      "<class 'pandas.core.frame.DataFrame'>\n",
      "RangeIndex: 6650 entries, 0 to 6649\n",
      "Data columns (total 12 columns):\n",
      " #   Column                   Non-Null Count  Dtype  \n",
      "---  ------                   --------------  -----  \n",
      " 0   Gender_Female            6650 non-null   float64\n",
      " 1   Gender_Male              6650 non-null   float64\n",
      " 2   Income_10L - 15L         6650 non-null   float64\n",
      " 3   Income_5L - 10L          6650 non-null   float64\n",
      " 4   Income_Less than 5L      6650 non-null   float64\n",
      " 5   Income_More than 15L     6650 non-null   float64\n",
      " 6   Credit_Category_Average  6650 non-null   float64\n",
      " 7   Credit_Category_Good     6650 non-null   float64\n",
      " 8   Credit_Category_Poor     6650 non-null   float64\n",
      " 9   Product_Holdings_1       6650 non-null   float64\n",
      " 10  Product_Holdings_2       6650 non-null   float64\n",
      " 11  Product_Holdings_3+      6650 non-null   float64\n",
      "dtypes: float64(12)\n",
      "memory usage: 623.6 KB\n"
     ]
    }
   ],
   "source": [
    "encoded_features.info()"
   ]
  },
  {
   "cell_type": "code",
   "execution_count": 381,
   "metadata": {
    "colab": {
     "base_uri": "https://localhost:8080/",
     "height": 258
    },
    "id": "tIFvqKWJEiqK",
    "outputId": "c974745a-efc0-4212-be60-8bd56d40196a"
   },
   "outputs": [
    {
     "data": {
      "text/html": [
       "<div>\n",
       "<style scoped>\n",
       "    .dataframe tbody tr th:only-of-type {\n",
       "        vertical-align: middle;\n",
       "    }\n",
       "\n",
       "    .dataframe tbody tr th {\n",
       "        vertical-align: top;\n",
       "    }\n",
       "\n",
       "    .dataframe thead th {\n",
       "        text-align: right;\n",
       "    }\n",
       "</style>\n",
       "<table border=\"1\" class=\"dataframe\">\n",
       "  <thead>\n",
       "    <tr style=\"text-align: right;\">\n",
       "      <th></th>\n",
       "      <th>ID</th>\n",
       "      <th>Age</th>\n",
       "      <th>Gender</th>\n",
       "      <th>Income</th>\n",
       "      <th>Balance</th>\n",
       "      <th>Vintage</th>\n",
       "      <th>Transaction_Status</th>\n",
       "      <th>Product_Holdings</th>\n",
       "      <th>Credit_Card</th>\n",
       "      <th>Credit_Category</th>\n",
       "      <th>...</th>\n",
       "      <th>Income_10L - 15L</th>\n",
       "      <th>Income_5L - 10L</th>\n",
       "      <th>Income_Less than 5L</th>\n",
       "      <th>Income_More than 15L</th>\n",
       "      <th>Credit_Category_Average</th>\n",
       "      <th>Credit_Category_Good</th>\n",
       "      <th>Credit_Category_Poor</th>\n",
       "      <th>Product_Holdings_1</th>\n",
       "      <th>Product_Holdings_2</th>\n",
       "      <th>Product_Holdings_3+</th>\n",
       "    </tr>\n",
       "  </thead>\n",
       "  <tbody>\n",
       "    <tr>\n",
       "      <th>0</th>\n",
       "      <td>84e2fcc9</td>\n",
       "      <td>36</td>\n",
       "      <td>Female</td>\n",
       "      <td>5L - 10L</td>\n",
       "      <td>563266.44</td>\n",
       "      <td>4</td>\n",
       "      <td>0</td>\n",
       "      <td>1</td>\n",
       "      <td>0</td>\n",
       "      <td>Average</td>\n",
       "      <td>...</td>\n",
       "      <td>0.0</td>\n",
       "      <td>1.0</td>\n",
       "      <td>0.0</td>\n",
       "      <td>0.0</td>\n",
       "      <td>1.0</td>\n",
       "      <td>0.0</td>\n",
       "      <td>0.0</td>\n",
       "      <td>1.0</td>\n",
       "      <td>0.0</td>\n",
       "      <td>0.0</td>\n",
       "    </tr>\n",
       "    <tr>\n",
       "      <th>1</th>\n",
       "      <td>57fea15e</td>\n",
       "      <td>53</td>\n",
       "      <td>Female</td>\n",
       "      <td>Less than 5L</td>\n",
       "      <td>875572.11</td>\n",
       "      <td>2</td>\n",
       "      <td>1</td>\n",
       "      <td>1</td>\n",
       "      <td>1</td>\n",
       "      <td>Poor</td>\n",
       "      <td>...</td>\n",
       "      <td>0.0</td>\n",
       "      <td>0.0</td>\n",
       "      <td>1.0</td>\n",
       "      <td>0.0</td>\n",
       "      <td>0.0</td>\n",
       "      <td>0.0</td>\n",
       "      <td>1.0</td>\n",
       "      <td>1.0</td>\n",
       "      <td>0.0</td>\n",
       "      <td>0.0</td>\n",
       "    </tr>\n",
       "    <tr>\n",
       "      <th>2</th>\n",
       "      <td>8df34ef3</td>\n",
       "      <td>35</td>\n",
       "      <td>Female</td>\n",
       "      <td>More than 15L</td>\n",
       "      <td>701607.06</td>\n",
       "      <td>2</td>\n",
       "      <td>1</td>\n",
       "      <td>2</td>\n",
       "      <td>0</td>\n",
       "      <td>Poor</td>\n",
       "      <td>...</td>\n",
       "      <td>0.0</td>\n",
       "      <td>0.0</td>\n",
       "      <td>0.0</td>\n",
       "      <td>1.0</td>\n",
       "      <td>0.0</td>\n",
       "      <td>0.0</td>\n",
       "      <td>1.0</td>\n",
       "      <td>0.0</td>\n",
       "      <td>1.0</td>\n",
       "      <td>0.0</td>\n",
       "    </tr>\n",
       "    <tr>\n",
       "      <th>3</th>\n",
       "      <td>c5c0788b</td>\n",
       "      <td>43</td>\n",
       "      <td>Female</td>\n",
       "      <td>More than 15L</td>\n",
       "      <td>1393922.16</td>\n",
       "      <td>0</td>\n",
       "      <td>1</td>\n",
       "      <td>2</td>\n",
       "      <td>1</td>\n",
       "      <td>Poor</td>\n",
       "      <td>...</td>\n",
       "      <td>0.0</td>\n",
       "      <td>0.0</td>\n",
       "      <td>0.0</td>\n",
       "      <td>1.0</td>\n",
       "      <td>0.0</td>\n",
       "      <td>0.0</td>\n",
       "      <td>1.0</td>\n",
       "      <td>0.0</td>\n",
       "      <td>1.0</td>\n",
       "      <td>0.0</td>\n",
       "    </tr>\n",
       "    <tr>\n",
       "      <th>4</th>\n",
       "      <td>951d69c4</td>\n",
       "      <td>39</td>\n",
       "      <td>Female</td>\n",
       "      <td>More than 15L</td>\n",
       "      <td>893146.23</td>\n",
       "      <td>1</td>\n",
       "      <td>1</td>\n",
       "      <td>1</td>\n",
       "      <td>1</td>\n",
       "      <td>Good</td>\n",
       "      <td>...</td>\n",
       "      <td>0.0</td>\n",
       "      <td>0.0</td>\n",
       "      <td>0.0</td>\n",
       "      <td>1.0</td>\n",
       "      <td>0.0</td>\n",
       "      <td>1.0</td>\n",
       "      <td>0.0</td>\n",
       "      <td>1.0</td>\n",
       "      <td>0.0</td>\n",
       "      <td>0.0</td>\n",
       "    </tr>\n",
       "  </tbody>\n",
       "</table>\n",
       "<p>5 rows × 23 columns</p>\n",
       "</div>"
      ],
      "text/plain": [
       "         ID  Age  Gender         Income     Balance  Vintage  \\\n",
       "0  84e2fcc9   36  Female       5L - 10L   563266.44        4   \n",
       "1  57fea15e   53  Female   Less than 5L   875572.11        2   \n",
       "2  8df34ef3   35  Female  More than 15L   701607.06        2   \n",
       "3  c5c0788b   43  Female  More than 15L  1393922.16        0   \n",
       "4  951d69c4   39  Female  More than 15L   893146.23        1   \n",
       "\n",
       "   Transaction_Status Product_Holdings  Credit_Card Credit_Category  ...  \\\n",
       "0                   0                1            0         Average  ...   \n",
       "1                   1                1            1            Poor  ...   \n",
       "2                   1                2            0            Poor  ...   \n",
       "3                   1                2            1            Poor  ...   \n",
       "4                   1                1            1            Good  ...   \n",
       "\n",
       "   Income_10L - 15L  Income_5L - 10L  Income_Less than 5L  \\\n",
       "0               0.0              1.0                  0.0   \n",
       "1               0.0              0.0                  1.0   \n",
       "2               0.0              0.0                  0.0   \n",
       "3               0.0              0.0                  0.0   \n",
       "4               0.0              0.0                  0.0   \n",
       "\n",
       "   Income_More than 15L  Credit_Category_Average  Credit_Category_Good  \\\n",
       "0                   0.0                      1.0                   0.0   \n",
       "1                   0.0                      0.0                   0.0   \n",
       "2                   1.0                      0.0                   0.0   \n",
       "3                   1.0                      0.0                   0.0   \n",
       "4                   1.0                      0.0                   1.0   \n",
       "\n",
       "   Credit_Category_Poor  Product_Holdings_1  Product_Holdings_2  \\\n",
       "0                   0.0                 1.0                 0.0   \n",
       "1                   1.0                 1.0                 0.0   \n",
       "2                   1.0                 0.0                 1.0   \n",
       "3                   1.0                 0.0                 1.0   \n",
       "4                   0.0                 1.0                 0.0   \n",
       "\n",
       "   Product_Holdings_3+  \n",
       "0                  0.0  \n",
       "1                  0.0  \n",
       "2                  0.0  \n",
       "3                  0.0  \n",
       "4                  0.0  \n",
       "\n",
       "[5 rows x 23 columns]"
      ]
     },
     "execution_count": 381,
     "metadata": {},
     "output_type": "execute_result"
    }
   ],
   "source": [
    "#Merging the Categorical encoded columns with the main dataframe\n",
    "finalX = pd.merge(df,encoded_features,left_index=True,right_index=True, how=\"inner\")\n",
    "finalX.head()"
   ]
  },
  {
   "cell_type": "code",
   "execution_count": 382,
   "metadata": {},
   "outputs": [],
   "source": [
    "finalX.drop(['Credit_Category','Income','Gender','Product_Holdings','ID'],axis=1,inplace=True)"
   ]
  },
  {
   "cell_type": "code",
   "execution_count": 383,
   "metadata": {},
   "outputs": [
    {
     "data": {
      "text/plain": [
       "Index(['Age', 'Balance', 'Vintage', 'Transaction_Status', 'Credit_Card',\n",
       "       'Is_Churn', 'Gender_Female', 'Gender_Male', 'Income_10L - 15L',\n",
       "       'Income_5L - 10L', 'Income_Less than 5L', 'Income_More than 15L',\n",
       "       'Credit_Category_Average', 'Credit_Category_Good',\n",
       "       'Credit_Category_Poor', 'Product_Holdings_1', 'Product_Holdings_2',\n",
       "       'Product_Holdings_3+'],\n",
       "      dtype='object')"
      ]
     },
     "execution_count": 383,
     "metadata": {},
     "output_type": "execute_result"
    }
   ],
   "source": [
    "finalX.columns"
   ]
  },
  {
   "cell_type": "code",
   "execution_count": 384,
   "metadata": {
    "colab": {
     "base_uri": "https://localhost:8080/"
    },
    "id": "tw1PfdzmEiqL",
    "outputId": "a2bbcd66-3053-4adc-b069-d5b42b17110e"
   },
   "outputs": [
    {
     "data": {
      "text/plain": [
       "(6650, 18)"
      ]
     },
     "execution_count": 384,
     "metadata": {},
     "output_type": "execute_result"
    }
   ],
   "source": [
    "finalX.shape"
   ]
  },
  {
   "cell_type": "code",
   "execution_count": 385,
   "metadata": {},
   "outputs": [
    {
     "name": "stdout",
     "output_type": "stream",
     "text": [
      "<class 'pandas.core.frame.DataFrame'>\n",
      "RangeIndex: 6650 entries, 0 to 6649\n",
      "Data columns (total 18 columns):\n",
      " #   Column                   Non-Null Count  Dtype  \n",
      "---  ------                   --------------  -----  \n",
      " 0   Age                      6650 non-null   int64  \n",
      " 1   Balance                  6650 non-null   float64\n",
      " 2   Vintage                  6650 non-null   int64  \n",
      " 3   Transaction_Status       6650 non-null   int64  \n",
      " 4   Credit_Card              6650 non-null   int64  \n",
      " 5   Is_Churn                 6650 non-null   int64  \n",
      " 6   Gender_Female            6650 non-null   float64\n",
      " 7   Gender_Male              6650 non-null   float64\n",
      " 8   Income_10L - 15L         6650 non-null   float64\n",
      " 9   Income_5L - 10L          6650 non-null   float64\n",
      " 10  Income_Less than 5L      6650 non-null   float64\n",
      " 11  Income_More than 15L     6650 non-null   float64\n",
      " 12  Credit_Category_Average  6650 non-null   float64\n",
      " 13  Credit_Category_Good     6650 non-null   float64\n",
      " 14  Credit_Category_Poor     6650 non-null   float64\n",
      " 15  Product_Holdings_1       6650 non-null   float64\n",
      " 16  Product_Holdings_2       6650 non-null   float64\n",
      " 17  Product_Holdings_3+      6650 non-null   float64\n",
      "dtypes: float64(13), int64(5)\n",
      "memory usage: 935.3 KB\n"
     ]
    }
   ],
   "source": [
    "finalX.info()"
   ]
  },
  {
   "cell_type": "code",
   "execution_count": 386,
   "metadata": {},
   "outputs": [],
   "source": [
    "#sSelecting columns for X\n",
    "finalX.drop(['Is_Churn'],axis=1,inplace=True)"
   ]
  },
  {
   "cell_type": "code",
   "execution_count": 387,
   "metadata": {},
   "outputs": [],
   "source": [
    "#Selecting the Target Column\n",
    "y=df.Is_Churn"
   ]
  },
  {
   "cell_type": "markdown",
   "metadata": {
    "id": "VTDUtk4ZE9NQ"
   },
   "source": [
    "<a name = Section72></a>\n",
    "### **7.2 Data Preparation**\n",
    "\n",
    "- Now we will **split** our **data** into **dependent** and **independent** variables for further development using holdout validation technique."
   ]
  },
  {
   "cell_type": "code",
   "execution_count": 388,
   "metadata": {
    "colab": {
     "base_uri": "https://localhost:8080/",
     "height": 411
    },
    "id": "5J3OJTe-E9st",
    "outputId": "21cfabdf-4953-4ffc-f3fc-08b4b6d38fbc",
    "scrolled": false
   },
   "outputs": [
    {
     "name": "stdout",
     "output_type": "stream",
     "text": [
      "X_train shape:  (4987, 17)\n",
      "y_train shape:  (4987,)\n",
      "X_test shape:  (1663, 17)\n",
      "y_test shape:  (1663,)\n",
      "<class 'pandas.core.frame.DataFrame'>\n",
      "Int64Index: 4987 entries, 3243 to 4878\n",
      "Data columns (total 17 columns):\n",
      " #   Column                   Non-Null Count  Dtype  \n",
      "---  ------                   --------------  -----  \n",
      " 0   Age                      4987 non-null   int64  \n",
      " 1   Balance                  4987 non-null   float64\n",
      " 2   Vintage                  4987 non-null   int64  \n",
      " 3   Transaction_Status       4987 non-null   int64  \n",
      " 4   Credit_Card              4987 non-null   int64  \n",
      " 5   Gender_Female            4987 non-null   float64\n",
      " 6   Gender_Male              4987 non-null   float64\n",
      " 7   Income_10L - 15L         4987 non-null   float64\n",
      " 8   Income_5L - 10L          4987 non-null   float64\n",
      " 9   Income_Less than 5L      4987 non-null   float64\n",
      " 10  Income_More than 15L     4987 non-null   float64\n",
      " 11  Credit_Category_Average  4987 non-null   float64\n",
      " 12  Credit_Category_Good     4987 non-null   float64\n",
      " 13  Credit_Category_Poor     4987 non-null   float64\n",
      " 14  Product_Holdings_1       4987 non-null   float64\n",
      " 15  Product_Holdings_2       4987 non-null   float64\n",
      " 16  Product_Holdings_3+      4987 non-null   float64\n",
      "dtypes: float64(13), int64(4)\n",
      "memory usage: 701.3 KB\n"
     ]
    },
    {
     "data": {
      "text/html": [
       "<div>\n",
       "<style scoped>\n",
       "    .dataframe tbody tr th:only-of-type {\n",
       "        vertical-align: middle;\n",
       "    }\n",
       "\n",
       "    .dataframe tbody tr th {\n",
       "        vertical-align: top;\n",
       "    }\n",
       "\n",
       "    .dataframe thead th {\n",
       "        text-align: right;\n",
       "    }\n",
       "</style>\n",
       "<table border=\"1\" class=\"dataframe\">\n",
       "  <thead>\n",
       "    <tr style=\"text-align: right;\">\n",
       "      <th></th>\n",
       "      <th>Age</th>\n",
       "      <th>Balance</th>\n",
       "      <th>Vintage</th>\n",
       "      <th>Transaction_Status</th>\n",
       "      <th>Credit_Card</th>\n",
       "      <th>Gender_Female</th>\n",
       "      <th>Gender_Male</th>\n",
       "      <th>Income_10L - 15L</th>\n",
       "      <th>Income_5L - 10L</th>\n",
       "      <th>Income_Less than 5L</th>\n",
       "      <th>Income_More than 15L</th>\n",
       "      <th>Credit_Category_Average</th>\n",
       "      <th>Credit_Category_Good</th>\n",
       "      <th>Credit_Category_Poor</th>\n",
       "      <th>Product_Holdings_1</th>\n",
       "      <th>Product_Holdings_2</th>\n",
       "      <th>Product_Holdings_3+</th>\n",
       "    </tr>\n",
       "  </thead>\n",
       "  <tbody>\n",
       "    <tr>\n",
       "      <th>3243</th>\n",
       "      <td>47</td>\n",
       "      <td>1482588.54</td>\n",
       "      <td>4</td>\n",
       "      <td>1</td>\n",
       "      <td>1</td>\n",
       "      <td>1.0</td>\n",
       "      <td>0.0</td>\n",
       "      <td>1.0</td>\n",
       "      <td>0.0</td>\n",
       "      <td>0.0</td>\n",
       "      <td>0.0</td>\n",
       "      <td>0.0</td>\n",
       "      <td>0.0</td>\n",
       "      <td>1.0</td>\n",
       "      <td>1.0</td>\n",
       "      <td>0.0</td>\n",
       "      <td>0.0</td>\n",
       "    </tr>\n",
       "    <tr>\n",
       "      <th>3048</th>\n",
       "      <td>42</td>\n",
       "      <td>863221.32</td>\n",
       "      <td>0</td>\n",
       "      <td>0</td>\n",
       "      <td>1</td>\n",
       "      <td>0.0</td>\n",
       "      <td>1.0</td>\n",
       "      <td>0.0</td>\n",
       "      <td>1.0</td>\n",
       "      <td>0.0</td>\n",
       "      <td>0.0</td>\n",
       "      <td>0.0</td>\n",
       "      <td>0.0</td>\n",
       "      <td>1.0</td>\n",
       "      <td>1.0</td>\n",
       "      <td>0.0</td>\n",
       "      <td>0.0</td>\n",
       "    </tr>\n",
       "    <tr>\n",
       "      <th>1902</th>\n",
       "      <td>58</td>\n",
       "      <td>1247566.23</td>\n",
       "      <td>3</td>\n",
       "      <td>1</td>\n",
       "      <td>1</td>\n",
       "      <td>1.0</td>\n",
       "      <td>0.0</td>\n",
       "      <td>0.0</td>\n",
       "      <td>1.0</td>\n",
       "      <td>0.0</td>\n",
       "      <td>0.0</td>\n",
       "      <td>0.0</td>\n",
       "      <td>1.0</td>\n",
       "      <td>0.0</td>\n",
       "      <td>1.0</td>\n",
       "      <td>0.0</td>\n",
       "      <td>0.0</td>\n",
       "    </tr>\n",
       "    <tr>\n",
       "      <th>4175</th>\n",
       "      <td>29</td>\n",
       "      <td>376395.57</td>\n",
       "      <td>4</td>\n",
       "      <td>0</td>\n",
       "      <td>1</td>\n",
       "      <td>0.0</td>\n",
       "      <td>1.0</td>\n",
       "      <td>0.0</td>\n",
       "      <td>0.0</td>\n",
       "      <td>1.0</td>\n",
       "      <td>0.0</td>\n",
       "      <td>0.0</td>\n",
       "      <td>1.0</td>\n",
       "      <td>0.0</td>\n",
       "      <td>0.0</td>\n",
       "      <td>1.0</td>\n",
       "      <td>0.0</td>\n",
       "    </tr>\n",
       "    <tr>\n",
       "      <th>1096</th>\n",
       "      <td>49</td>\n",
       "      <td>1348761.15</td>\n",
       "      <td>3</td>\n",
       "      <td>0</td>\n",
       "      <td>1</td>\n",
       "      <td>0.0</td>\n",
       "      <td>1.0</td>\n",
       "      <td>0.0</td>\n",
       "      <td>0.0</td>\n",
       "      <td>1.0</td>\n",
       "      <td>0.0</td>\n",
       "      <td>0.0</td>\n",
       "      <td>0.0</td>\n",
       "      <td>1.0</td>\n",
       "      <td>1.0</td>\n",
       "      <td>0.0</td>\n",
       "      <td>0.0</td>\n",
       "    </tr>\n",
       "  </tbody>\n",
       "</table>\n",
       "</div>"
      ],
      "text/plain": [
       "      Age     Balance  Vintage  Transaction_Status  Credit_Card  \\\n",
       "3243   47  1482588.54        4                   1            1   \n",
       "3048   42   863221.32        0                   0            1   \n",
       "1902   58  1247566.23        3                   1            1   \n",
       "4175   29   376395.57        4                   0            1   \n",
       "1096   49  1348761.15        3                   0            1   \n",
       "\n",
       "      Gender_Female  Gender_Male  Income_10L - 15L  Income_5L - 10L  \\\n",
       "3243            1.0          0.0               1.0              0.0   \n",
       "3048            0.0          1.0               0.0              1.0   \n",
       "1902            1.0          0.0               0.0              1.0   \n",
       "4175            0.0          1.0               0.0              0.0   \n",
       "1096            0.0          1.0               0.0              0.0   \n",
       "\n",
       "      Income_Less than 5L  Income_More than 15L  Credit_Category_Average  \\\n",
       "3243                  0.0                   0.0                      0.0   \n",
       "3048                  0.0                   0.0                      0.0   \n",
       "1902                  0.0                   0.0                      0.0   \n",
       "4175                  1.0                   0.0                      0.0   \n",
       "1096                  1.0                   0.0                      0.0   \n",
       "\n",
       "      Credit_Category_Good  Credit_Category_Poor  Product_Holdings_1  \\\n",
       "3243                   0.0                   1.0                 1.0   \n",
       "3048                   0.0                   1.0                 1.0   \n",
       "1902                   1.0                   0.0                 1.0   \n",
       "4175                   1.0                   0.0                 0.0   \n",
       "1096                   0.0                   1.0                 1.0   \n",
       "\n",
       "      Product_Holdings_2  Product_Holdings_3+  \n",
       "3243                 0.0                  0.0  \n",
       "3048                 0.0                  0.0  \n",
       "1902                 0.0                  0.0  \n",
       "4175                 1.0                  0.0  \n",
       "1096                 0.0                  0.0  "
      ]
     },
     "execution_count": 388,
     "metadata": {},
     "output_type": "execute_result"
    }
   ],
   "source": [
    "from sklearn.model_selection import train_test_split                # To split the data in training and testing part     \n",
    "from sklearn.linear_model import LogisticRegression  \n",
    "# Splitting data into training and testing sets with using Validation Test Data as 25%\n",
    "X_train, X_test, y_train, y_test = train_test_split(finalX, y, test_size=0.25, random_state=42, stratify=y)\n",
    "\n",
    "# Display the shape of training and testing data\n",
    "print('X_train shape: ', X_train.shape)\n",
    "print('y_train shape: ', y_train.shape)\n",
    "print('X_test shape: ', X_test.shape)\n",
    "print('y_test shape: ', y_test.shape)\n",
    "X_train.info()\n",
    "#X_train.columns\n",
    "X_train.head()"
   ]
  },
  {
   "cell_type": "markdown",
   "metadata": {
    "id": "oW7xFVEiEitF"
   },
   "source": [
    "<a name = Section73></a>\n",
    "### **7.3 Data Scaling**\n",
    "\n",
    "- Here we can try various scaling options available to arrive at best option\n",
    "- Here I have decided to not do scaling as of now after trying with different scaling options"
   ]
  },
  {
   "cell_type": "code",
   "execution_count": 389,
   "metadata": {
    "id": "oHzc0udYEitG"
   },
   "outputs": [],
   "source": [
    "from sklearn.preprocessing import RobustScaler\n",
    "from sklearn.preprocessing import StandardScaler\n",
    "\n",
    "\n",
    "scaler_rbs = StandardScaler()\n",
    "X_train_rbs = scaler_rbs.fit_transform(X_train)\n",
    "X_test_rbs = scaler_rbs.transform(X_test)"
   ]
  },
  {
   "cell_type": "markdown",
   "metadata": {
    "id": "K-mvuWsNFAYJ"
   },
   "source": [
    "<a name = Section8></a>\n",
    "\n",
    "---\n",
    "# **8. Model Development & Evaluation**\n",
    "---\n",
    "\n",
    "- In this section we will **develop a Logistic Regression model**\n",
    "\n",
    "- Then we will **analyze the results** obtained and **make our observations**.\n",
    "\n",
    "- For **evaluation purpose** we will **focus** on **F1 Score** score as required by this project."
   ]
  },
  {
   "cell_type": "markdown",
   "metadata": {
    "id": "susmBGv8TOPl"
   },
   "source": [
    "<a name = Section81></a>\n",
    "### **8.1 Baseline Model Development & Evaluation**\n",
    "\n",
    "- Here we will develop Logistic Regression classification model using default setting."
   ]
  },
  {
   "cell_type": "code",
   "execution_count": 390,
   "metadata": {
    "id": "aA5BQH1tE9pR"
   },
   "outputs": [],
   "source": [
    "# Instantiate a Logistic Regression\n",
    "logreg = LogisticRegression()\n",
    "logreg.fit(X_train_rbs,y_train)\n",
    "\n",
    "# Predicting training and testing labels\n",
    "y_train_pred_count = logreg.predict(X_train_rbs)\n",
    "y_test_pred_count = logreg.predict(X_test_rbs)\n"
   ]
  },
  {
   "cell_type": "code",
   "execution_count": 391,
   "metadata": {
    "colab": {
     "base_uri": "https://localhost:8080/",
     "height": 653
    },
    "id": "EkNCXm8eEitH",
    "outputId": "5a9f195e-a308-46e5-9abe-d95816ab676f"
   },
   "outputs": [
    {
     "data": {
      "image/png": "[encoded data removed]",
      "text/plain": [
       "<Figure size 576x576 with 2 Axes>"
      ]
     },
     "metadata": {
      "needs_background": "light"
     },
     "output_type": "display_data"
    }
   ],
   "source": [
    "#Print confusion matrix for Test Validation Data\n",
    "from sklearn.metrics import confusion_matrix, ConfusionMatrixDisplay\n",
    "cm = confusion_matrix(y_test, y_test_pred_count,labels=logreg.classes_)\n",
    "disp = ConfusionMatrixDisplay(confusion_matrix=cm,display_labels=logreg.classes_)\n",
    "fig, ax = plt.subplots(figsize=(8,8))\n",
    "\n",
    "disp.plot(cmap='cividis', values_format='d', ax=ax)\n",
    "ax.set_xlabel('Predicted Value');ax.set_ylabel('Actual Value'); \n",
    "ax.set_title('Confusion Matrix'); \n",
    "ax.xaxis.set_ticklabels(['High Net Worth(1)', 'Low Net Worth(2)']); ax.yaxis.set_ticklabels(['High Net Worth(1)', 'Low Net Worth(2)']);"
   ]
  },
  {
   "cell_type": "code",
   "execution_count": 392,
   "metadata": {
    "colab": {
     "base_uri": "https://localhost:8080/"
    },
    "id": "yo-ZmUuWEitH",
    "outputId": "031965b7-4778-424d-8368-0b6516c5b000"
   },
   "outputs": [
    {
     "name": "stdout",
     "output_type": "stream",
     "text": [
      " Accuracy score for test validation data is: 0.7660853878532772 \n",
      " ######################################################### \n",
      " Precision score for test validation data is : 0.43243243243243246 \n",
      " Recall score for test validation data is : 0.041666666666666664 \n",
      " ######################################################### \n",
      " F1 score for test validation data is : 0.07600950118764845\n"
     ]
    }
   ],
   "source": [
    "print(' Accuracy score for test validation data is:', accuracy_score(y_test,y_test_pred_count),\n",
    "      '\\n','#########################################################','\\n'\n",
    "   ' Precision score for test validation data is :', precision_score(y_test,y_test_pred_count),'\\n',\n",
    "      'Recall score for test validation data is :', recall_score(y_test,y_test_pred_count),'\\n',\n",
    "      '#########################################################','\\n',\n",
    "      'F1 score for test validation data is :', f1_score(y_test,y_test_pred_count))"
   ]
  },
  {
   "cell_type": "code",
   "execution_count": 393,
   "metadata": {
    "colab": {
     "base_uri": "https://localhost:8080/"
    },
    "id": "ShNKXCKaHsfB",
    "outputId": "b3a47db1-84e1-4dee-e0fe-4b8e93c13e14"
   },
   "outputs": [
    {
     "name": "stdout",
     "output_type": "stream",
     "text": [
      "                    Training Data Report          \n",
      "              precision    recall  f1-score   support\n",
      "\n",
      "           0       0.78      0.98      0.87      3834\n",
      "           1       0.54      0.06      0.11      1153\n",
      "\n",
      "    accuracy                           0.77      4987\n",
      "   macro avg       0.66      0.52      0.49      4987\n",
      "weighted avg       0.72      0.77      0.69      4987\n",
      "\n",
      "                    Test Validation Data Report           \n",
      "              precision    recall  f1-score   support\n",
      "\n",
      "           0       0.77      0.98      0.87      1279\n",
      "           1       0.43      0.04      0.08       384\n",
      "\n",
      "    accuracy                           0.77      1663\n",
      "   macro avg       0.60      0.51      0.47      1663\n",
      "weighted avg       0.69      0.77      0.68      1663\n",
      "\n"
     ]
    }
   ],
   "source": [
    "train_report = classification_report(y_train, y_train_pred_count)\n",
    "test_report = classification_report(y_test, y_test_pred_count)\n",
    "print('                    Training Data Report          ')\n",
    "print(train_report)\n",
    "print('                    Test Validation Data Report           ')\n",
    "print(test_report)"
   ]
  },
  {
   "cell_type": "code",
   "execution_count": 394,
   "metadata": {},
   "outputs": [
    {
     "name": "stdout",
     "output_type": "stream",
     "text": [
      "Testing Accuracy\n",
      "0.7630787733012627\n",
      "Training Accuracy\n",
      "0.7786244235011028\n",
      "\n",
      "Average f1_macro\n",
      "0.478930463141052\n"
     ]
    }
   ],
   "source": [
    "#Decision Tree\n",
    "from sklearn.tree import DecisionTreeClassifier \n",
    "from sklearn.pipeline import Pipeline\n",
    "#X_train, X_test, y_train, y_test = train_test_split(X, y, test_size=0.20,random_state=10)\n",
    "pipeDT = Pipeline(( \n",
    "(\"DT\",DecisionTreeClassifier(random_state = 42, max_depth = 5)) ,    \n",
    "))\n",
    "pipeDT.fit(X_train,y_train)\n",
    "print(\"Testing Accuracy\")\n",
    "print(pipeDT.score(X_test,y_test))\n",
    "print(\"Training Accuracy\")\n",
    "print(pipeDT.score(X_train,y_train))\n",
    "from sklearn.model_selection import cross_val_score\n",
    "scores = cross_val_score(pipeDT, X_train, y_train, cv=10,scoring='f1_macro')\n",
    "print()\n",
    "print(\"Average f1_macro\")\n",
    "print(np.mean(scores))"
   ]
  },
  {
   "cell_type": "code",
   "execution_count": 395,
   "metadata": {},
   "outputs": [
    {
     "name": "stdout",
     "output_type": "stream",
     "text": [
      "Testing Accuracy\n",
      "0.7690920024052916\n",
      "Training Accuracy\n",
      "0.7687988770804091\n",
      "\n",
      "Average f1_macro\n",
      "0.434644521023149\n"
     ]
    }
   ],
   "source": [
    "from sklearn.naive_bayes import GaussianNB \n",
    "from sklearn.pipeline import Pipeline\n",
    "#X_train, X_test, y_train, y_test = train_test_split(X, y, test_size=0.20,random_state=10)\n",
    "pipeGNB = Pipeline(( \n",
    "(\"DT\",GaussianNB()) ,    \n",
    "))\n",
    "pipeGNB.fit(X_train,y_train)\n",
    "print(\"Testing Accuracy\")\n",
    "print(pipeGNB.score(X_test,y_test))\n",
    "print(\"Training Accuracy\")\n",
    "print(pipeGNB.score(X_train,y_train))\n",
    "from sklearn.model_selection import cross_val_score\n",
    "scores = cross_val_score(pipeGNB, X_train, y_train, cv=10,scoring='f1_macro')\n",
    "print()\n",
    "print(\"Average f1_macro\")\n",
    "print(np.mean(scores))"
   ]
  },
  {
   "cell_type": "code",
   "execution_count": 396,
   "metadata": {},
   "outputs": [
    {
     "name": "stdout",
     "output_type": "stream",
     "text": [
      "[14:58:04] WARNING: C:/Users/Administrator/workspace/xgboost-win64_release_1.5.1/src/learner.cc:1115: Starting in XGBoost 1.3.0, the default evaluation metric used with the objective 'binary:logistic' was changed from 'error' to 'logloss'. Explicitly set eval_metric if you'd like to restore the old behavior.\n",
      "Testing Accuracy\n",
      "0.7594708358388454\n",
      "Training Accuracy\n",
      "0.8562261880890315\n",
      "[14:58:05] WARNING: C:/Users/Administrator/workspace/xgboost-win64_release_1.5.1/src/learner.cc:1115: Starting in XGBoost 1.3.0, the default evaluation metric used with the objective 'binary:logistic' was changed from 'error' to 'logloss'. Explicitly set eval_metric if you'd like to restore the old behavior.\n",
      "[14:58:05] WARNING: C:/Users/Administrator/workspace/xgboost-win64_release_1.5.1/src/learner.cc:1115: Starting in XGBoost 1.3.0, the default evaluation metric used with the objective 'binary:logistic' was changed from 'error' to 'logloss'. Explicitly set eval_metric if you'd like to restore the old behavior.\n",
      "[14:58:05] WARNING: C:/Users/Administrator/workspace/xgboost-win64_release_1.5.1/src/learner.cc:1115: Starting in XGBoost 1.3.0, the default evaluation metric used with the objective 'binary:logistic' was changed from 'error' to 'logloss'. Explicitly set eval_metric if you'd like to restore the old behavior.\n",
      "[14:58:05] WARNING: C:/Users/Administrator/workspace/xgboost-win64_release_1.5.1/src/learner.cc:1115: Starting in XGBoost 1.3.0, the default evaluation metric used with the objective 'binary:logistic' was changed from 'error' to 'logloss'. Explicitly set eval_metric if you'd like to restore the old behavior.\n",
      "[14:58:05] WARNING: C:/Users/Administrator/workspace/xgboost-win64_release_1.5.1/src/learner.cc:1115: Starting in XGBoost 1.3.0, the default evaluation metric used with the objective 'binary:logistic' was changed from 'error' to 'logloss'. Explicitly set eval_metric if you'd like to restore the old behavior.\n",
      "[14:58:06] WARNING: C:/Users/Administrator/workspace/xgboost-win64_release_1.5.1/src/learner.cc:1115: Starting in XGBoost 1.3.0, the default evaluation metric used with the objective 'binary:logistic' was changed from 'error' to 'logloss'. Explicitly set eval_metric if you'd like to restore the old behavior.\n",
      "[14:58:06] WARNING: C:/Users/Administrator/workspace/xgboost-win64_release_1.5.1/src/learner.cc:1115: Starting in XGBoost 1.3.0, the default evaluation metric used with the objective 'binary:logistic' was changed from 'error' to 'logloss'. Explicitly set eval_metric if you'd like to restore the old behavior.\n",
      "[14:58:06] WARNING: C:/Users/Administrator/workspace/xgboost-win64_release_1.5.1/src/learner.cc:1115: Starting in XGBoost 1.3.0, the default evaluation metric used with the objective 'binary:logistic' was changed from 'error' to 'logloss'. Explicitly set eval_metric if you'd like to restore the old behavior.\n",
      "[14:58:06] WARNING: C:/Users/Administrator/workspace/xgboost-win64_release_1.5.1/src/learner.cc:1115: Starting in XGBoost 1.3.0, the default evaluation metric used with the objective 'binary:logistic' was changed from 'error' to 'logloss'. Explicitly set eval_metric if you'd like to restore the old behavior.\n",
      "[14:58:06] WARNING: C:/Users/Administrator/workspace/xgboost-win64_release_1.5.1/src/learner.cc:1115: Starting in XGBoost 1.3.0, the default evaluation metric used with the objective 'binary:logistic' was changed from 'error' to 'logloss'. Explicitly set eval_metric if you'd like to restore the old behavior.\n",
      "\n",
      "Average f1_macro\n",
      "0.5118520580568042\n"
     ]
    }
   ],
   "source": [
    "from sklearn import model_selection\n",
    "from xgboost import XGBClassifier\n",
    "#X_train, X_test, y_train, y_test = train_test_split(X, y, test_size=0.20,random_state=10)\n",
    "kfold = model_selection.KFold(n_splits=10)\n",
    "pipeXGB = Pipeline(( \n",
    "(\"XGB\",XGBClassifier(random_state = 42, max_depth = 5)) ,    \n",
    "))\n",
    "pipeXGB.fit(X_train_rbs,y_train)\n",
    "print(\"Testing Accuracy\")\n",
    "print(pipeXGB.score(X_test_rbs,y_test))\n",
    "print(\"Training Accuracy\")\n",
    "print(pipeXGB.score(X_train_rbs,y_train))\n",
    "from sklearn.model_selection import cross_val_score\n",
    "scores = cross_val_score(pipeXGB, X_train_rbs, y_train, cv=10,scoring='f1_macro')\n",
    "print()\n",
    "print(\"Average f1_macro\")\n",
    "print(np.mean(scores))"
   ]
  },
  {
   "cell_type": "code",
   "execution_count": 397,
   "metadata": {},
   "outputs": [
    {
     "name": "stdout",
     "output_type": "stream",
     "text": [
      "Testing Accuracy\n",
      "0.7684906794948888\n",
      "Training Accuracy\n",
      "0.7700020052135552\n",
      "\n",
      "Average f1_macro\n",
      "0.4381398291325994\n"
     ]
    }
   ],
   "source": [
    "from sklearn.ensemble import RandomForestClassifier\n",
    "\n",
    "#X_train, X_test, y_train, y_test = train_test_split(X, y, test_size=0.20,random_state=10)\n",
    "pipeRF = Pipeline(( \n",
    "(\"RF\",RandomForestClassifier(random_state = 42, max_depth = 5)) ,    \n",
    "))\n",
    "pipeRF.fit(X_train,y_train)\n",
    "\n",
    "print(\"Testing Accuracy\")\n",
    "print(pipeRF.score(X_test,y_test))\n",
    "print(\"Training Accuracy\")\n",
    "print(pipeRF.score(X_train,y_train))\n",
    "from sklearn.model_selection import cross_val_score\n",
    "scoresknn = cross_val_score(pipeRF, X_train, y_train, cv=10,scoring='f1_macro')\n",
    "print()\n",
    "print(\"Average f1_macro\")\n",
    "print(np.mean(scoresknn))"
   ]
  },
  {
   "cell_type": "code",
   "execution_count": 398,
   "metadata": {},
   "outputs": [
    {
     "name": "stdout",
     "output_type": "stream",
     "text": [
      "Testing Accuracy\n",
      "0.7630787733012627\n",
      "Training Accuracy\n",
      "0.7776218167234811\n",
      "\n",
      "Average f1_macro\n",
      "0.4614975101694223\n"
     ]
    }
   ],
   "source": [
    "from sklearn.neighbors import KNeighborsClassifier\n",
    "#X_train, X_test, y_train, y_test = train_test_split(X, y, test_size=0.20,random_state=10)\n",
    "pipe = Pipeline((\n",
    "(\"sc\",RobustScaler()),    \n",
    "(\"knn\",KNeighborsClassifier(n_neighbors=10)) ,    \n",
    "))\n",
    "pipe.fit(X_train,y_train)\n",
    "print(\"Testing Accuracy\")\n",
    "\n",
    "print(pipe.score(X_test,y_test))\n",
    "print(\"Training Accuracy\")\n",
    "print(pipe.score(X_train,y_train))\n",
    "from sklearn.model_selection import cross_val_score\n",
    "scoresknn = cross_val_score(pipe, X_train, y_train, cv=10,scoring='f1_macro')\n",
    "print()\n",
    "print(\"Average f1_macro\")\n",
    "print(np.mean(scoresknn))"
   ]
  },
  {
   "cell_type": "code",
   "execution_count": 416,
   "metadata": {
    "scrolled": true
   },
   "outputs": [
    {
     "name": "stdout",
     "output_type": "stream",
     "text": [
      "Fitting 10 folds for each of 24 candidates, totalling 240 fits\n"
     ]
    },
    {
     "name": "stderr",
     "output_type": "stream",
     "text": [
      "[Parallel(n_jobs=1)]: Using backend SequentialBackend with 1 concurrent workers.\n",
      "[Parallel(n_jobs=1)]: Done 240 out of 240 | elapsed:  1.9min finished\n"
     ]
    },
    {
     "name": "stdout",
     "output_type": "stream",
     "text": [
      "{'learning_rate': 0.01, 'max_depth': 3, 'n_estimators': 200}\n",
      "XGB Classifier Cros validation score: 77.16066671495601\n"
     ]
    }
   ],
   "source": [
    "from xgboost import XGBClassifier\n",
    "from sklearn.model_selection import GridSearchCV\n",
    "model_xgb=XGBClassifier(n_jobs=-1,random_state=42,eval_metric='logloss')\n",
    "parameters = {'n_estimators':[50,100,200],'max_depth':[3,4,5,6],'learning_rate':[0.1,0.01]}\n",
    "model_xgb_grid = GridSearchCV(model_xgb, parameters,cv=10,verbose=1).fit(X_train,y_train)\n",
    "print(model_xgb_grid.best_params_)\n",
    "\n",
    "print('XGB Classifier Cros validation score:',model_xgb_grid.best_score_*100)"
   ]
  },
  {
   "cell_type": "code",
   "execution_count": 422,
   "metadata": {},
   "outputs": [
    {
     "name": "stdout",
     "output_type": "stream",
     "text": [
      "XGB Classifier Classifier Train score: 78.72468417886505\n",
      "0.4614975101694223\n"
     ]
    }
   ],
   "source": [
    "model_xgb=XGBClassifier(n_jobs=-1,random_state=42,n_estimators=200,max_depth=3,learning_rate=0.1,eval_metric='logloss')\n",
    "model_xgb.fit(X_train,y_train)\n",
    "s=model_xgb.score(X_train,y_train)\n",
    "print('XGB Classifier Classifier Train score:',model_xgb.score(X_train,y_train)*100)\n",
    "s = cross_val_score(pipe, X_train, y_train, cv=10,scoring='f1_macro')\n",
    "print(np.mean(s))"
   ]
  },
  {
   "cell_type": "code",
   "execution_count": 424,
   "metadata": {},
   "outputs": [
    {
     "name": "stdout",
     "output_type": "stream",
     "text": [
      "Collecting tensorflow\n",
      "  Downloading tensorflow-2.8.0-cp38-cp38-win_amd64.whl (438.0 MB)\n",
      "Collecting keras-preprocessing>=1.1.1\n",
      "  Downloading Keras_Preprocessing-1.1.2-py2.py3-none-any.whl (42 kB)\n",
      "Requirement already satisfied: protobuf>=3.9.2 in c:\\users\\shahk\\anaconda3\\lib\\site-packages (from tensorflow) (3.19.4)\n",
      "Collecting google-pasta>=0.1.1\n",
      "  Downloading google_pasta-0.2.0-py3-none-any.whl (57 kB)\n",
      "Collecting flatbuffers>=1.12\n",
      "  Downloading flatbuffers-2.0-py2.py3-none-any.whl (26 kB)\n",
      "Requirement already satisfied: wrapt>=1.11.0 in c:\\users\\shahk\\anaconda3\\lib\\site-packages (from tensorflow) (1.11.2)\n",
      "Collecting grpcio<2.0,>=1.24.3\n",
      "  Downloading grpcio-1.44.0-cp38-cp38-win_amd64.whl (3.4 MB)\n",
      "Collecting libclang>=9.0.1\n",
      "  Downloading libclang-13.0.0-py2.py3-none-win_amd64.whl (13.9 MB)\n",
      "Collecting tf-estimator-nightly==2.8.0.dev2021122109\n",
      "  Downloading tf_estimator_nightly-2.8.0.dev2021122109-py2.py3-none-any.whl (462 kB)\n",
      "Collecting numpy>=1.20\n",
      "  Downloading numpy-1.22.3-cp38-cp38-win_amd64.whl (14.7 MB)\n",
      "Collecting tensorflow-io-gcs-filesystem>=0.23.1\n",
      "  Downloading tensorflow_io_gcs_filesystem-0.24.0-cp38-cp38-win_amd64.whl (1.5 MB)\n",
      "Collecting gast>=0.2.1\n",
      "  Downloading gast-0.5.3-py3-none-any.whl (19 kB)\n",
      "Collecting opt-einsum>=2.3.2\n",
      "  Downloading opt_einsum-3.3.0-py3-none-any.whl (65 kB)\n",
      "Requirement already satisfied: h5py>=2.9.0 in c:\\users\\shahk\\anaconda3\\lib\\site-packages (from tensorflow) (2.10.0)\n",
      "Collecting keras<2.9,>=2.8.0rc0\n",
      "  Downloading keras-2.8.0-py2.py3-none-any.whl (1.4 MB)\n",
      "Requirement already satisfied: six>=1.12.0 in c:\\users\\shahk\\anaconda3\\lib\\site-packages (from tensorflow) (1.15.0)\n",
      "Collecting absl-py>=0.4.0\n",
      "  Downloading absl_py-1.0.0-py3-none-any.whl (126 kB)\n",
      "Requirement already satisfied: typing-extensions>=3.6.6 in c:\\users\\shahk\\anaconda3\\lib\\site-packages (from tensorflow) (3.7.4.3)\n",
      "Collecting astunparse>=1.6.0\n",
      "  Downloading astunparse-1.6.3-py2.py3-none-any.whl (12 kB)\n",
      "Collecting tensorboard<2.9,>=2.8\n",
      "  Downloading tensorboard-2.8.0-py3-none-any.whl (5.8 MB)\n",
      "Requirement already satisfied: setuptools in c:\\users\\shahk\\anaconda3\\lib\\site-packages (from tensorflow) (50.3.1.post20201107)\n",
      "Collecting termcolor>=1.1.0\n",
      "  Downloading termcolor-1.1.0.tar.gz (3.9 kB)\n",
      "Requirement already satisfied: wheel<1.0,>=0.23.0 in c:\\users\\shahk\\anaconda3\\lib\\site-packages (from astunparse>=1.6.0->tensorflow) (0.35.1)\n",
      "Collecting tensorboard-data-server<0.7.0,>=0.6.0\n",
      "  Downloading tensorboard_data_server-0.6.1-py3-none-any.whl (2.4 kB)\n",
      "Collecting google-auth-oauthlib<0.5,>=0.4.1\n",
      "  Downloading google_auth_oauthlib-0.4.6-py2.py3-none-any.whl (18 kB)\n",
      "Collecting google-auth<3,>=1.6.3\n",
      "  Downloading google_auth-2.6.0-py2.py3-none-any.whl (156 kB)\n",
      "Requirement already satisfied: requests<3,>=2.21.0 in c:\\users\\shahk\\anaconda3\\lib\\site-packages (from tensorboard<2.9,>=2.8->tensorflow) (2.24.0)\n",
      "Collecting tensorboard-plugin-wit>=1.6.0\n",
      "  Downloading tensorboard_plugin_wit-1.8.1-py3-none-any.whl (781 kB)\n",
      "Requirement already satisfied: werkzeug>=0.11.15 in c:\\users\\shahk\\anaconda3\\lib\\site-packages (from tensorboard<2.9,>=2.8->tensorflow) (1.0.1)\n",
      "Collecting markdown>=2.6.8\n",
      "  Downloading Markdown-3.3.6-py3-none-any.whl (97 kB)\n",
      "Collecting requests-oauthlib>=0.7.0\n",
      "  Downloading requests_oauthlib-1.3.1-py2.py3-none-any.whl (23 kB)\n",
      "Note: you may need to restart the kernel to use updated packages.\n"
     ]
    },
    {
     "name": "stderr",
     "output_type": "stream",
     "text": [
      "ERROR: Could not install packages due to an EnvironmentError: [WinError 5] Access is denied: 'C:\\\\Users\\\\shahk\\\\anaconda3\\\\Lib\\\\site-packages\\\\~umpy\\\\core\\\\_multiarray_tests.cp38-win_amd64.pyd'\n",
      "Consider using the `--user` option or check the permissions.\n",
      "\n"
     ]
    },
    {
     "name": "stdout",
     "output_type": "stream",
     "text": [
      "Collecting rsa<5,>=3.1.4; python_version >= \"3.6\"\n",
      "  Downloading rsa-4.8-py3-none-any.whl (39 kB)\n",
      "Collecting cachetools<6.0,>=2.0.0\n",
      "  Downloading cachetools-5.0.0-py3-none-any.whl (9.1 kB)\n",
      "Collecting pyasn1-modules>=0.2.1\n",
      "  Downloading pyasn1_modules-0.2.8-py2.py3-none-any.whl (155 kB)\n",
      "Requirement already satisfied: chardet<4,>=3.0.2 in c:\\users\\shahk\\anaconda3\\lib\\site-packages (from requests<3,>=2.21.0->tensorboard<2.9,>=2.8->tensorflow) (3.0.4)\n",
      "Requirement already satisfied: certifi>=2017.4.17 in c:\\users\\shahk\\anaconda3\\lib\\site-packages (from requests<3,>=2.21.0->tensorboard<2.9,>=2.8->tensorflow) (2020.6.20)\n",
      "Requirement already satisfied: urllib3!=1.25.0,!=1.25.1,<1.26,>=1.21.1 in c:\\users\\shahk\\anaconda3\\lib\\site-packages (from requests<3,>=2.21.0->tensorboard<2.9,>=2.8->tensorflow) (1.25.11)\n",
      "Requirement already satisfied: idna<3,>=2.5 in c:\\users\\shahk\\anaconda3\\lib\\site-packages (from requests<3,>=2.21.0->tensorboard<2.9,>=2.8->tensorflow) (2.10)\n",
      "Collecting importlib-metadata>=4.4; python_version < \"3.10\"\n",
      "  Downloading importlib_metadata-4.11.2-py3-none-any.whl (17 kB)\n",
      "Collecting oauthlib>=3.0.0\n",
      "  Downloading oauthlib-3.2.0-py3-none-any.whl (151 kB)\n",
      "Collecting pyasn1>=0.1.3\n",
      "  Downloading pyasn1-0.4.8-py2.py3-none-any.whl (77 kB)\n",
      "Requirement already satisfied: zipp>=0.5 in c:\\users\\shahk\\anaconda3\\lib\\site-packages (from importlib-metadata>=4.4; python_version < \"3.10\"->markdown>=2.6.8->tensorboard<2.9,>=2.8->tensorflow) (3.4.0)\n",
      "Building wheels for collected packages: termcolor\n",
      "  Building wheel for termcolor (setup.py): started\n",
      "  Building wheel for termcolor (setup.py): finished with status 'done'\n",
      "  Created wheel for termcolor: filename=termcolor-1.1.0-py3-none-any.whl size=4835 sha256=33a5885cf0e0283bdb5ee1365ac86177ed1021cf991bf76781527631349989bc\n",
      "  Stored in directory: c:\\users\\shahk\\appdata\\local\\pip\\cache\\wheels\\a0\\16\\9c\\5473df82468f958445479c59e784896fa24f4a5fc024b0f501\n",
      "Successfully built termcolor\n",
      "Installing collected packages: numpy, keras-preprocessing, google-pasta, flatbuffers, grpcio, libclang, tf-estimator-nightly, tensorflow-io-gcs-filesystem, gast, opt-einsum, keras, absl-py, astunparse, tensorboard-data-server, oauthlib, requests-oauthlib, pyasn1, rsa, cachetools, pyasn1-modules, google-auth, google-auth-oauthlib, tensorboard-plugin-wit, importlib-metadata, markdown, tensorboard, termcolor, tensorflow\n",
      "  Attempting uninstall: numpy\n",
      "    Found existing installation: numpy 1.19.2\n",
      "    Uninstalling numpy-1.19.2:\n",
      "      Successfully uninstalled numpy-1.19.2\n"
     ]
    }
   ],
   "source": [
    "pip install tensorflow"
   ]
  },
  {
   "cell_type": "code",
   "execution_count": 423,
   "metadata": {},
   "outputs": [
    {
     "ename": "ModuleNotFoundError",
     "evalue": "No module named 'tensorflow'",
     "output_type": "error",
     "traceback": [
      "\u001b[1;31m---------------------------------------------------------------------------\u001b[0m",
      "\u001b[1;31mModuleNotFoundError\u001b[0m                       Traceback (most recent call last)",
      "\u001b[1;32m<ipython-input-423-2bc055f763f9>\u001b[0m in \u001b[0;36m<module>\u001b[1;34m\u001b[0m\n\u001b[1;32m----> 1\u001b[1;33m \u001b[1;32mimport\u001b[0m \u001b[0mtensorflow\u001b[0m \u001b[1;32mas\u001b[0m \u001b[0mtf\u001b[0m\u001b[1;33m\u001b[0m\u001b[1;33m\u001b[0m\u001b[0m\n\u001b[0m\u001b[0;32m      2\u001b[0m \u001b[0mmodel_dnn\u001b[0m\u001b[1;33m=\u001b[0m\u001b[0mtf\u001b[0m\u001b[1;33m.\u001b[0m\u001b[0mkeras\u001b[0m\u001b[1;33m.\u001b[0m\u001b[0mSequential\u001b[0m\u001b[1;33m(\u001b[0m\u001b[1;33m)\u001b[0m\u001b[1;33m\u001b[0m\u001b[1;33m\u001b[0m\u001b[0m\n\u001b[0;32m      3\u001b[0m \u001b[1;33m\u001b[0m\u001b[0m\n\u001b[0;32m      4\u001b[0m \u001b[0mmodel_dnn\u001b[0m\u001b[1;33m.\u001b[0m\u001b[0madd\u001b[0m\u001b[1;33m(\u001b[0m\u001b[0mtf\u001b[0m\u001b[1;33m.\u001b[0m\u001b[0mkeras\u001b[0m\u001b[1;33m.\u001b[0m\u001b[0mlayers\u001b[0m\u001b[1;33m.\u001b[0m\u001b[0mDense\u001b[0m\u001b[1;33m(\u001b[0m\u001b[1;36m25\u001b[0m\u001b[1;33m,\u001b[0m\u001b[0mactivation\u001b[0m\u001b[1;33m=\u001b[0m\u001b[1;34m'relu'\u001b[0m\u001b[1;33m,\u001b[0m\u001b[0minput_dim\u001b[0m\u001b[1;33m=\u001b[0m\u001b[1;36m11\u001b[0m\u001b[1;33m)\u001b[0m\u001b[1;33m)\u001b[0m\u001b[1;33m\u001b[0m\u001b[1;33m\u001b[0m\u001b[0m\n\u001b[0;32m      5\u001b[0m \u001b[0mmodel_dnn\u001b[0m\u001b[1;33m.\u001b[0m\u001b[0madd\u001b[0m\u001b[1;33m(\u001b[0m\u001b[0mtf\u001b[0m\u001b[1;33m.\u001b[0m\u001b[0mkeras\u001b[0m\u001b[1;33m.\u001b[0m\u001b[0mlayers\u001b[0m\u001b[1;33m.\u001b[0m\u001b[0mDropout\u001b[0m\u001b[1;33m(\u001b[0m\u001b[1;36m0.5\u001b[0m\u001b[1;33m)\u001b[0m\u001b[1;33m)\u001b[0m\u001b[1;33m\u001b[0m\u001b[1;33m\u001b[0m\u001b[0m\n",
      "\u001b[1;31mModuleNotFoundError\u001b[0m: No module named 'tensorflow'"
     ]
    }
   ],
   "source": [
    "import tensorflow as tf\n",
    "model_dnn=tf.keras.Sequential()\n",
    "\n",
    "model_dnn.add(tf.keras.layers.Dense(25,activation='relu',input_dim=11))\n",
    "model_dnn.add(tf.keras.layers.Dropout(0.5))\n",
    "model_dnn.add(tf.keras.layers.Dense(10,activation='relu'))\n",
    "model_dnn.add(tf.keras.layers.Dropout(0.3))\n",
    "model_dnn.add(tf.keras.layers.Dense(1,activation='sigmoid'))\n",
    "model_dnn.compile(optimizer=tf.keras.optimizers.Adam(learning_rate=0.01),loss=\"binary_crossentropy\",metrics=['f1_macro'])"
   ]
  },
  {
   "cell_type": "markdown",
   "metadata": {
    "id": "hkgo2ycvhYNX"
   },
   "source": [
    "- Best macro F1 score is from XGBoostClassifier, Hence we will use it's model for Test data "
   ]
  },
  {
   "cell_type": "markdown",
   "metadata": {
    "id": "UrLD7eBtEitK"
   },
   "source": [
    "# Test data"
   ]
  },
  {
   "cell_type": "code",
   "execution_count": 412,
   "metadata": {},
   "outputs": [
    {
     "name": "stdout",
     "output_type": "stream",
     "text": [
      "Shape of the Test Data: (2851, 10)\n"
     ]
    },
    {
     "data": {
      "text/html": [
       "<div>\n",
       "<style scoped>\n",
       "    .dataframe tbody tr th:only-of-type {\n",
       "        vertical-align: middle;\n",
       "    }\n",
       "\n",
       "    .dataframe tbody tr th {\n",
       "        vertical-align: top;\n",
       "    }\n",
       "\n",
       "    .dataframe thead th {\n",
       "        text-align: right;\n",
       "    }\n",
       "</style>\n",
       "<table border=\"1\" class=\"dataframe\">\n",
       "  <thead>\n",
       "    <tr style=\"text-align: right;\">\n",
       "      <th></th>\n",
       "      <th>ID</th>\n",
       "      <th>Age</th>\n",
       "      <th>Gender</th>\n",
       "      <th>Income</th>\n",
       "      <th>Balance</th>\n",
       "      <th>Vintage</th>\n",
       "      <th>Transaction_Status</th>\n",
       "      <th>Product_Holdings</th>\n",
       "      <th>Credit_Card</th>\n",
       "      <th>Credit_Category</th>\n",
       "    </tr>\n",
       "  </thead>\n",
       "  <tbody>\n",
       "    <tr>\n",
       "      <th>0</th>\n",
       "      <td>55480787</td>\n",
       "      <td>50</td>\n",
       "      <td>Female</td>\n",
       "      <td>More than 15L</td>\n",
       "      <td>1008636.39</td>\n",
       "      <td>2</td>\n",
       "      <td>1</td>\n",
       "      <td>2</td>\n",
       "      <td>1</td>\n",
       "      <td>Average</td>\n",
       "    </tr>\n",
       "    <tr>\n",
       "      <th>1</th>\n",
       "      <td>9aededf2</td>\n",
       "      <td>36</td>\n",
       "      <td>Male</td>\n",
       "      <td>5L - 10L</td>\n",
       "      <td>341460.72</td>\n",
       "      <td>2</td>\n",
       "      <td>0</td>\n",
       "      <td>2</td>\n",
       "      <td>1</td>\n",
       "      <td>Average</td>\n",
       "    </tr>\n",
       "    <tr>\n",
       "      <th>2</th>\n",
       "      <td>a5034a09</td>\n",
       "      <td>25</td>\n",
       "      <td>Female</td>\n",
       "      <td>10L - 15L</td>\n",
       "      <td>439460.10</td>\n",
       "      <td>0</td>\n",
       "      <td>0</td>\n",
       "      <td>2</td>\n",
       "      <td>1</td>\n",
       "      <td>Good</td>\n",
       "    </tr>\n",
       "    <tr>\n",
       "      <th>3</th>\n",
       "      <td>b3256702</td>\n",
       "      <td>41</td>\n",
       "      <td>Male</td>\n",
       "      <td>Less than 5L</td>\n",
       "      <td>28581.93</td>\n",
       "      <td>0</td>\n",
       "      <td>1</td>\n",
       "      <td>2</td>\n",
       "      <td>1</td>\n",
       "      <td>Poor</td>\n",
       "    </tr>\n",
       "    <tr>\n",
       "      <th>4</th>\n",
       "      <td>dc28adb5</td>\n",
       "      <td>48</td>\n",
       "      <td>Male</td>\n",
       "      <td>More than 15L</td>\n",
       "      <td>1104540.03</td>\n",
       "      <td>2</td>\n",
       "      <td>1</td>\n",
       "      <td>3+</td>\n",
       "      <td>0</td>\n",
       "      <td>Good</td>\n",
       "    </tr>\n",
       "  </tbody>\n",
       "</table>\n",
       "</div>"
      ],
      "text/plain": [
       "         ID  Age  Gender         Income     Balance  Vintage  \\\n",
       "0  55480787   50  Female  More than 15L  1008636.39        2   \n",
       "1  9aededf2   36    Male       5L - 10L   341460.72        2   \n",
       "2  a5034a09   25  Female      10L - 15L   439460.10        0   \n",
       "3  b3256702   41    Male   Less than 5L    28581.93        0   \n",
       "4  dc28adb5   48    Male  More than 15L  1104540.03        2   \n",
       "\n",
       "   Transaction_Status Product_Holdings  Credit_Card Credit_Category  \n",
       "0                   1                2            1         Average  \n",
       "1                   0                2            1         Average  \n",
       "2                   0                2            1            Good  \n",
       "3                   1                2            1            Poor  \n",
       "4                   1               3+            0            Good  "
      ]
     },
     "execution_count": 412,
     "metadata": {},
     "output_type": "execute_result"
    }
   ],
   "source": [
    "#Reading Test Data\n",
    "df = pd.read_csv(\"https://github.com/kings-shah/Customer_Churn_Analytics_Vidhya/blob/main/test_Data_AV.csv?raw=true\")\n",
    "\n",
    "# Get the dimesions of data\n",
    "print('Shape of the Test Data:', df.shape)\n",
    "\n",
    "# Output first 5 data rows\n",
    "df.head()"
   ]
  },
  {
   "cell_type": "code",
   "execution_count": 413,
   "metadata": {},
   "outputs": [
    {
     "data": {
      "text/plain": [
       "False"
      ]
     },
     "execution_count": 413,
     "metadata": {},
     "output_type": "execute_result"
    }
   ],
   "source": [
    "any(df.isna().sum())"
   ]
  },
  {
   "cell_type": "code",
   "execution_count": 401,
   "metadata": {},
   "outputs": [],
   "source": [
    "#Applying data processing on test data\n",
    "ohe = OneHotEncoder()\n",
    "categorical = df.loc[:, ['Gender','Income','Credit_Category','Product_Holdings']]\n",
    "\n",
    "encoded_data = ohe.fit_transform(categorical)\n",
    "cols = ohe.get_feature_names(['Gender','Income','Credit_Category','Product_Holdings'])\n",
    "encoded_features = pd.DataFrame(encoded_data.todense(), columns=cols)"
   ]
  },
  {
   "cell_type": "code",
   "execution_count": 402,
   "metadata": {},
   "outputs": [
    {
     "name": "stdout",
     "output_type": "stream",
     "text": [
      "<class 'pandas.core.frame.DataFrame'>\n",
      "RangeIndex: 2851 entries, 0 to 2850\n",
      "Data columns (total 12 columns):\n",
      " #   Column                   Non-Null Count  Dtype  \n",
      "---  ------                   --------------  -----  \n",
      " 0   Gender_Female            2851 non-null   float64\n",
      " 1   Gender_Male              2851 non-null   float64\n",
      " 2   Income_10L - 15L         2851 non-null   float64\n",
      " 3   Income_5L - 10L          2851 non-null   float64\n",
      " 4   Income_Less than 5L      2851 non-null   float64\n",
      " 5   Income_More than 15L     2851 non-null   float64\n",
      " 6   Credit_Category_Average  2851 non-null   float64\n",
      " 7   Credit_Category_Good     2851 non-null   float64\n",
      " 8   Credit_Category_Poor     2851 non-null   float64\n",
      " 9   Product_Holdings_1       2851 non-null   float64\n",
      " 10  Product_Holdings_2       2851 non-null   float64\n",
      " 11  Product_Holdings_3+      2851 non-null   float64\n",
      "dtypes: float64(12)\n",
      "memory usage: 267.4 KB\n"
     ]
    }
   ],
   "source": [
    "encoded_features.info()"
   ]
  },
  {
   "cell_type": "code",
   "execution_count": 403,
   "metadata": {},
   "outputs": [
    {
     "data": {
      "text/html": [
       "<div>\n",
       "<style scoped>\n",
       "    .dataframe tbody tr th:only-of-type {\n",
       "        vertical-align: middle;\n",
       "    }\n",
       "\n",
       "    .dataframe tbody tr th {\n",
       "        vertical-align: top;\n",
       "    }\n",
       "\n",
       "    .dataframe thead th {\n",
       "        text-align: right;\n",
       "    }\n",
       "</style>\n",
       "<table border=\"1\" class=\"dataframe\">\n",
       "  <thead>\n",
       "    <tr style=\"text-align: right;\">\n",
       "      <th></th>\n",
       "      <th>ID</th>\n",
       "      <th>Age</th>\n",
       "      <th>Gender</th>\n",
       "      <th>Income</th>\n",
       "      <th>Balance</th>\n",
       "      <th>Vintage</th>\n",
       "      <th>Transaction_Status</th>\n",
       "      <th>Product_Holdings</th>\n",
       "      <th>Credit_Card</th>\n",
       "      <th>Credit_Category</th>\n",
       "      <th>...</th>\n",
       "      <th>Income_10L - 15L</th>\n",
       "      <th>Income_5L - 10L</th>\n",
       "      <th>Income_Less than 5L</th>\n",
       "      <th>Income_More than 15L</th>\n",
       "      <th>Credit_Category_Average</th>\n",
       "      <th>Credit_Category_Good</th>\n",
       "      <th>Credit_Category_Poor</th>\n",
       "      <th>Product_Holdings_1</th>\n",
       "      <th>Product_Holdings_2</th>\n",
       "      <th>Product_Holdings_3+</th>\n",
       "    </tr>\n",
       "  </thead>\n",
       "  <tbody>\n",
       "    <tr>\n",
       "      <th>0</th>\n",
       "      <td>55480787</td>\n",
       "      <td>50</td>\n",
       "      <td>Female</td>\n",
       "      <td>More than 15L</td>\n",
       "      <td>1008636.39</td>\n",
       "      <td>2</td>\n",
       "      <td>1</td>\n",
       "      <td>2</td>\n",
       "      <td>1</td>\n",
       "      <td>Average</td>\n",
       "      <td>...</td>\n",
       "      <td>0.0</td>\n",
       "      <td>0.0</td>\n",
       "      <td>0.0</td>\n",
       "      <td>1.0</td>\n",
       "      <td>1.0</td>\n",
       "      <td>0.0</td>\n",
       "      <td>0.0</td>\n",
       "      <td>0.0</td>\n",
       "      <td>1.0</td>\n",
       "      <td>0.0</td>\n",
       "    </tr>\n",
       "    <tr>\n",
       "      <th>1</th>\n",
       "      <td>9aededf2</td>\n",
       "      <td>36</td>\n",
       "      <td>Male</td>\n",
       "      <td>5L - 10L</td>\n",
       "      <td>341460.72</td>\n",
       "      <td>2</td>\n",
       "      <td>0</td>\n",
       "      <td>2</td>\n",
       "      <td>1</td>\n",
       "      <td>Average</td>\n",
       "      <td>...</td>\n",
       "      <td>0.0</td>\n",
       "      <td>1.0</td>\n",
       "      <td>0.0</td>\n",
       "      <td>0.0</td>\n",
       "      <td>1.0</td>\n",
       "      <td>0.0</td>\n",
       "      <td>0.0</td>\n",
       "      <td>0.0</td>\n",
       "      <td>1.0</td>\n",
       "      <td>0.0</td>\n",
       "    </tr>\n",
       "    <tr>\n",
       "      <th>2</th>\n",
       "      <td>a5034a09</td>\n",
       "      <td>25</td>\n",
       "      <td>Female</td>\n",
       "      <td>10L - 15L</td>\n",
       "      <td>439460.10</td>\n",
       "      <td>0</td>\n",
       "      <td>0</td>\n",
       "      <td>2</td>\n",
       "      <td>1</td>\n",
       "      <td>Good</td>\n",
       "      <td>...</td>\n",
       "      <td>1.0</td>\n",
       "      <td>0.0</td>\n",
       "      <td>0.0</td>\n",
       "      <td>0.0</td>\n",
       "      <td>0.0</td>\n",
       "      <td>1.0</td>\n",
       "      <td>0.0</td>\n",
       "      <td>0.0</td>\n",
       "      <td>1.0</td>\n",
       "      <td>0.0</td>\n",
       "    </tr>\n",
       "    <tr>\n",
       "      <th>3</th>\n",
       "      <td>b3256702</td>\n",
       "      <td>41</td>\n",
       "      <td>Male</td>\n",
       "      <td>Less than 5L</td>\n",
       "      <td>28581.93</td>\n",
       "      <td>0</td>\n",
       "      <td>1</td>\n",
       "      <td>2</td>\n",
       "      <td>1</td>\n",
       "      <td>Poor</td>\n",
       "      <td>...</td>\n",
       "      <td>0.0</td>\n",
       "      <td>0.0</td>\n",
       "      <td>1.0</td>\n",
       "      <td>0.0</td>\n",
       "      <td>0.0</td>\n",
       "      <td>0.0</td>\n",
       "      <td>1.0</td>\n",
       "      <td>0.0</td>\n",
       "      <td>1.0</td>\n",
       "      <td>0.0</td>\n",
       "    </tr>\n",
       "    <tr>\n",
       "      <th>4</th>\n",
       "      <td>dc28adb5</td>\n",
       "      <td>48</td>\n",
       "      <td>Male</td>\n",
       "      <td>More than 15L</td>\n",
       "      <td>1104540.03</td>\n",
       "      <td>2</td>\n",
       "      <td>1</td>\n",
       "      <td>3+</td>\n",
       "      <td>0</td>\n",
       "      <td>Good</td>\n",
       "      <td>...</td>\n",
       "      <td>0.0</td>\n",
       "      <td>0.0</td>\n",
       "      <td>0.0</td>\n",
       "      <td>1.0</td>\n",
       "      <td>0.0</td>\n",
       "      <td>1.0</td>\n",
       "      <td>0.0</td>\n",
       "      <td>0.0</td>\n",
       "      <td>0.0</td>\n",
       "      <td>1.0</td>\n",
       "    </tr>\n",
       "  </tbody>\n",
       "</table>\n",
       "<p>5 rows × 22 columns</p>\n",
       "</div>"
      ],
      "text/plain": [
       "         ID  Age  Gender         Income     Balance  Vintage  \\\n",
       "0  55480787   50  Female  More than 15L  1008636.39        2   \n",
       "1  9aededf2   36    Male       5L - 10L   341460.72        2   \n",
       "2  a5034a09   25  Female      10L - 15L   439460.10        0   \n",
       "3  b3256702   41    Male   Less than 5L    28581.93        0   \n",
       "4  dc28adb5   48    Male  More than 15L  1104540.03        2   \n",
       "\n",
       "   Transaction_Status Product_Holdings  Credit_Card Credit_Category  ...  \\\n",
       "0                   1                2            1         Average  ...   \n",
       "1                   0                2            1         Average  ...   \n",
       "2                   0                2            1            Good  ...   \n",
       "3                   1                2            1            Poor  ...   \n",
       "4                   1               3+            0            Good  ...   \n",
       "\n",
       "   Income_10L - 15L  Income_5L - 10L  Income_Less than 5L  \\\n",
       "0               0.0              0.0                  0.0   \n",
       "1               0.0              1.0                  0.0   \n",
       "2               1.0              0.0                  0.0   \n",
       "3               0.0              0.0                  1.0   \n",
       "4               0.0              0.0                  0.0   \n",
       "\n",
       "   Income_More than 15L  Credit_Category_Average  Credit_Category_Good  \\\n",
       "0                   1.0                      1.0                   0.0   \n",
       "1                   0.0                      1.0                   0.0   \n",
       "2                   0.0                      0.0                   1.0   \n",
       "3                   0.0                      0.0                   0.0   \n",
       "4                   1.0                      0.0                   1.0   \n",
       "\n",
       "   Credit_Category_Poor  Product_Holdings_1  Product_Holdings_2  \\\n",
       "0                   0.0                 0.0                 1.0   \n",
       "1                   0.0                 0.0                 1.0   \n",
       "2                   0.0                 0.0                 1.0   \n",
       "3                   1.0                 0.0                 1.0   \n",
       "4                   0.0                 0.0                 0.0   \n",
       "\n",
       "   Product_Holdings_3+  \n",
       "0                  0.0  \n",
       "1                  0.0  \n",
       "2                  0.0  \n",
       "3                  0.0  \n",
       "4                  1.0  \n",
       "\n",
       "[5 rows x 22 columns]"
      ]
     },
     "execution_count": 403,
     "metadata": {},
     "output_type": "execute_result"
    }
   ],
   "source": [
    "finalX = pd.merge(df,encoded_features,left_index=True,right_index=True, how=\"inner\")\n",
    "finalX.head()"
   ]
  },
  {
   "cell_type": "code",
   "execution_count": 404,
   "metadata": {},
   "outputs": [],
   "source": [
    "finalX.drop(['Credit_Category','Income','Gender','ID','Product_Holdings'],axis=1,inplace=True)"
   ]
  },
  {
   "cell_type": "code",
   "execution_count": 405,
   "metadata": {},
   "outputs": [
    {
     "name": "stdout",
     "output_type": "stream",
     "text": [
      "<class 'pandas.core.frame.DataFrame'>\n",
      "RangeIndex: 2851 entries, 0 to 2850\n",
      "Data columns (total 17 columns):\n",
      " #   Column                   Non-Null Count  Dtype  \n",
      "---  ------                   --------------  -----  \n",
      " 0   Age                      2851 non-null   int64  \n",
      " 1   Balance                  2851 non-null   float64\n",
      " 2   Vintage                  2851 non-null   int64  \n",
      " 3   Transaction_Status       2851 non-null   int64  \n",
      " 4   Credit_Card              2851 non-null   int64  \n",
      " 5   Gender_Female            2851 non-null   float64\n",
      " 6   Gender_Male              2851 non-null   float64\n",
      " 7   Income_10L - 15L         2851 non-null   float64\n",
      " 8   Income_5L - 10L          2851 non-null   float64\n",
      " 9   Income_Less than 5L      2851 non-null   float64\n",
      " 10  Income_More than 15L     2851 non-null   float64\n",
      " 11  Credit_Category_Average  2851 non-null   float64\n",
      " 12  Credit_Category_Good     2851 non-null   float64\n",
      " 13  Credit_Category_Poor     2851 non-null   float64\n",
      " 14  Product_Holdings_1       2851 non-null   float64\n",
      " 15  Product_Holdings_2       2851 non-null   float64\n",
      " 16  Product_Holdings_3+      2851 non-null   float64\n",
      "dtypes: float64(13), int64(4)\n",
      "memory usage: 378.8 KB\n"
     ]
    }
   ],
   "source": [
    "finalX.info()"
   ]
  },
  {
   "cell_type": "code",
   "execution_count": 406,
   "metadata": {},
   "outputs": [],
   "source": [
    "#scaling the data for XGBoost\n",
    "scaler_rbs = StandardScaler()\n",
    "X_train_rbs = scaler_rbs.fit_transform(finalX)\n"
   ]
  },
  {
   "cell_type": "code",
   "execution_count": 407,
   "metadata": {},
   "outputs": [],
   "source": [
    "#predicing \n",
    "y_pred_final=pipeXGB.predict(X_train_rbs)"
   ]
  },
  {
   "cell_type": "code",
   "execution_count": 408,
   "metadata": {},
   "outputs": [],
   "source": [
    "#converting to dataframe\n",
    "df3 = pd.DataFrame({\"ID\":df.ID,\"Is_Churn\":y_pred_final})"
   ]
  },
  {
   "cell_type": "code",
   "execution_count": 409,
   "metadata": {},
   "outputs": [],
   "source": [
    "#Converting to CSV\n",
    "df3.to_csv('cust_Churn_output.csv',index=False)"
   ]
  },
  {
   "cell_type": "code",
   "execution_count": 410,
   "metadata": {},
   "outputs": [
    {
     "data": {
      "text/plain": [
       "0    2682\n",
       "1     169\n",
       "Name: Is_Churn, dtype: int64"
      ]
     },
     "execution_count": 410,
     "metadata": {},
     "output_type": "execute_result"
    }
   ],
   "source": [
    "df3.Is_Churn.value_counts()"
   ]
  },
  {
   "cell_type": "code",
   "execution_count": 411,
   "metadata": {},
   "outputs": [
    {
     "data": {
      "text/plain": [
       "(2851, 2)"
      ]
     },
     "execution_count": 411,
     "metadata": {},
     "output_type": "execute_result"
    }
   ],
   "source": [
    "df3.shape"
   ]
  },
  {
   "cell_type": "markdown",
   "metadata": {
    "id": "_H3bOK6bXgb7"
   },
   "source": [
    "<a name = Section9></a>\n",
    "\n",
    "---\n",
    "# **9. Summarization**\n",
    "---"
   ]
  },
  {
   "cell_type": "markdown",
   "metadata": {
    "id": "HFqTdgNaXix8"
   },
   "source": [
    "<a name = Section91></a>\n",
    "### **9.1 Conclusion**\n",
    "\n",
    "- XGBoost model was used for model evaluation and prediction as it gave the best macro F1 score\n",
    "- Macro F1 Score was used to arrive at model evaluation which is required for this Project\n",
    "- One-Hot Encoding using one hot encoder was used\n",
    "- StandardScaler scaling provided best Macro F1 Score for this dataset"
   ]
  },
  {
   "cell_type": "markdown",
   "metadata": {},
   "source": [
    "### **Please refer my techinal report in PDF form**\n",
    "https://github.com/kings-shah/Customer_Churn_Analytics_Vidhya/blob/main/Customer%20churn.pdf\n"
   ]
  },
  {
   "cell_type": "code",
   "execution_count": null,
   "metadata": {},
   "outputs": [],
   "source": []
  }
 ],
 "metadata": {
  "colab": {
   "collapsed_sections": [],
   "name": "Customer_classification.ipynb",
   "provenance": []
  },
  "kernelspec": {
   "display_name": "Python 3",
   "language": "python",
   "name": "python3"
  },
  "language_info": {
   "codemirror_mode": {
    "name": "ipython",
    "version": 3
   },
   "file_extension": ".py",
   "mimetype": "text/x-python",
   "name": "python",
   "nbconvert_exporter": "python",
   "pygments_lexer": "ipython3",
   "version": "3.8.5"
  }
 },
 "nbformat": 4,
 "nbformat_minor": 1
}
